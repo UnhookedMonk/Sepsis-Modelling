{
 "cells": [
  {
   "cell_type": "markdown",
   "metadata": {},
   "source": [
    "Sepsis is a critical medical condition that arises when the body's reaction to an infection becomes dysfunctional, resulting in widespread inflammation, organ impairment, and the risk of fatality. The analysis and modeling of sepsis hold utmost significance in the field of healthcare, as the early identification and timely intervention can notably enhance patient prognosis."
   ]
  },
  {
   "cell_type": "markdown",
   "metadata": {},
   "source": [
    "### Columns description of the data"
   ]
  },
  {
   "cell_type": "markdown",
   "metadata": {},
   "source": [
    "These columns contain various measurements, demographic information, and indicators related to the presence of sepsis.\n",
    "\n",
    "ID : Unique number to represent patient ID\n",
    "\n",
    "PRG : Plasma glucose\n",
    "\n",
    "PL : Blood Work Result-1 (mu U/ml)\n",
    "\n",
    "PR : Blood Pressure (mm Hg)\n",
    "\n",
    "SK : Blood Work Result-2 (mm)\n",
    "\n",
    "TS : Blood Work Result-3 (mu U/ml)\n",
    "\n",
    "M11 : Body mass index (weight in kg/(height in m)^2\n",
    "\n",
    "BD2 : Blood Work Result-4 (mu U/ml)\n",
    "\n",
    "Age : Patients age (years)\n",
    "\n",
    "Insurance : If a patient holds a valid insurance card\n",
    "\n",
    "Sepsis : Positive: if a patient in ICU will develop a sepsis , and Negative: otherwise"
   ]
  },
  {
   "cell_type": "markdown",
   "metadata": {},
   "source": [
    "### Business Questions"
   ]
  },
  {
   "cell_type": "markdown",
   "metadata": {},
   "source": [
    "1. What are the contributing factors to the onset of sepsis in the provided dataset?\n",
    "\n",
    "2. Is there a significant disparity in the age distribution between patients who have tested positive for sepsis and those who have not?\n",
    "\n",
    "3. Can we discern any patterns or connections between the status of insurance coverage and the occurrence of sepsis?\n",
    "\n",
    "4. Are there any noteworthy distinctions in the prevalence of sepsis cases based on specific medical parameter levels?\n",
    "\n",
    "5. How are various medical measurements (e.g., pregnancy, blood pressure, glucose levels) correlated with the presence of sepsis?\n",
    "\n",
    "6. Is there any link between the presence of sepsis and specific demographic factors like gender or age?\n",
    "\n",
    "7. Is it possible to investigate the association between sepsis and other variables such as BMI, diabetes pedigree function, or the length of hospital stay?"
   ]
  },
  {
   "cell_type": "markdown",
   "metadata": {},
   "source": [
    "### Hypothesis"
   ]
  },
  {
   "cell_type": "markdown",
   "metadata": {},
   "source": [
    "##### Null Hypothesis (H0): The features PRG, PL, PR, SK, TS, M11, BD2, Age, and Insurance do not have predictive significance for the presence or absence of Sepsis disease.\n",
    "\n"
   ]
  },
  {
   "cell_type": "markdown",
   "metadata": {},
   "source": [
    "##### Alternative Hypothesis (H1): The features PRG, PL, PR, SK, TS, M11, BD2, Age, and Insurance do have predictive significance for the presence or absence of Sepsis disease."
   ]
  },
  {
   "cell_type": "markdown",
   "metadata": {},
   "source": [
    "### IMPORTATION OF LIBRARIES & PACKAGES"
   ]
  },
  {
   "cell_type": "code",
   "execution_count": null,
   "metadata": {},
   "outputs": [],
   "source": [
    "#  Data Handling \n",
    "import pandas as pd\n",
    "import numpy as np\n",
    "\n",
    "# Visualisation\n",
    "import seaborn as sns\n",
    "import matplotlib.pyplot as plt\n",
    "import plotly.express as px"
   ]
  },
  {
   "cell_type": "markdown",
   "metadata": {},
   "source": [
    "### DATA HANDLING"
   ]
  },
  {
   "cell_type": "code",
   "execution_count": null,
   "metadata": {},
   "outputs": [],
   "source": [
    "#Loading the train and Eval dataset \n",
    "train_df = pd.read_csv('data\\Paitients_Files_Train.csv')\n",
    "test_df = pd.read_csv('data\\Paitients_Files_Test.csv')"
   ]
  },
  {
   "cell_type": "markdown",
   "metadata": {},
   "source": [
    "### EXPLORATORY DATA ANALYSIS"
   ]
  },
  {
   "cell_type": "code",
   "execution_count": null,
   "metadata": {},
   "outputs": [],
   "source": [
    "print(train_df.head())\n",
    "print(test_df.head())"
   ]
  },
  {
   "cell_type": "code",
   "execution_count": null,
   "metadata": {},
   "outputs": [],
   "source": [
    "#renames colummns with actual definition headers \n",
    "new_column_names = {'PRG':'Plasma_Glucose',\n",
    "               'PL': 'Blood_Work_Result1',\n",
    "               'PR': 'Blood_Pressure',\n",
    "               'SK': 'Blood_Work_Result2',\n",
    "               'TS': 'Blood_Work_Result3',\n",
    "               'M11': 'Body_mass_index',\n",
    "               'BD2': 'Blood_Work_Result4'\n",
    "}\n",
    "\n",
    "train_df.rename(columns = new_column_names, inplace = True)\n",
    "test_df.rename (columns = new_column_names, inplace = True)"
   ]
  },
  {
   "cell_type": "code",
   "execution_count": null,
   "metadata": {},
   "outputs": [],
   "source": [
    "train_df.info()"
   ]
  }
 ],
 "metadata": {
  "kernelspec": {
   "display_name": "Python 3",
   "language": "python",
   "name": "python3"
  },
  "language_info": {
   "name": "python",
   "version": "3.11.3"
  }
 },
 "nbformat": 4,
 "nbformat_minor": 2
}
