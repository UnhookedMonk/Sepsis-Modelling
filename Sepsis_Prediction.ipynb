{
  "cells": [
    {
      "cell_type": "markdown",
      "id": "71a8086a-b977-436d-9543-d9bcbf58be9a",
      "metadata": {
        "id": "71a8086a-b977-436d-9543-d9bcbf58be9a"
      },
      "source": [
        "# Introduction\n",
        "In the healthcare industrym the early detection and management of critical medical conditions can significantly impact patient outcomes and improve the quality of care. One such life-threatening condition is sepsis,  which is the body's extreme response to an infection. Sepsis happens when an infection you arleady have triggers a chain reaction throughout the body. Prompt identification and intervention in cases of sepsis are pivotal in preventing its progression and reducing mortality rates.\n",
        "This analysis embarks on the exploration of a dataset containing essential medical and demographic information of patients in an Intensive Care Unit (ICU). The primary objective is to leverage this dataset to develop a predictive model that can effectively identify individuals at risk of developing sepsis during their ICU stay. By doing so, healthcare professionals can receive early warnings, allowing them to initiate timely interventions and potentially save lives.\n",
        "\n",
        "#  Questions\n",
        "1. What is the distribution of Sepsis\n",
        "2. What is the distribution of Age\n",
        "3. How Many Patients have Insurance\n",
        "4. Is Blood Pressure Affected by Age\n",
        "5. How many patients in each BMI category have sepsis?\n",
        "6. How many of the patients fall under the Normal, Elevated and High Blood Pressure?\n",
        "\n",
        "\n",
        "# Hypothesis\n",
        "\n",
        "## Hypothesis 1:\n",
        "\n",
        "* Null Hypothesis (H0): There is no significant relationship between a patient's age and the likelihood of developing sepsis.\n",
        "\n",
        "* Alternative Hypothesis (H1): The age of a patient is a significant factor that influences the likelihood of developing sepsis.\n",
        "\n",
        "## Hypothesis 2\n",
        "* Null Hypothesis (H0): There is no significant difference in the distribution of\n",
        "blood pressure (PR) values between patients who develop sepsis (Sepsis: Positive) and those who do not (Sepsis: Negative).\n",
        "\n",
        "* Alternative Hypothesis (H1): There is a significant difference in the distribution of blood pressure (PR) values between patients who develop sepsis (Sepsis: Positive) and those who do not (Sepsis: Negative)."
      ]
    },
    {
      "cell_type": "markdown",
      "id": "p8WhRMePxSky",
      "metadata": {
        "id": "p8WhRMePxSky"
      },
      "source": [
        "# Importations"
      ]
    },
    {
      "cell_type": "code",
      "execution_count": 1,
      "id": "975e859b-8762-446c-9e0f-baa437ddf34b",
      "metadata": {
        "id": "975e859b-8762-446c-9e0f-baa437ddf34b"
      },
      "outputs": [],
      "source": [
        "# Importations\n",
        "import pandas as pd\n",
        "import numpy as np\n",
        "\n",
        "# Matplotlib\n",
        "import matplotlib.pyplot as plt\n",
        "\n",
        "# Seaborn\n",
        "import seaborn as sns\n",
        "\n",
        "# Hypothesis Testing\n",
        "from scipy import stats\n",
        "import statistics as stat\n",
        "\n",
        "# Import the label encoder from sklearn\n",
        "from sklearn.preprocessing import LabelEncoder\n",
        "\n",
        "#Importing SMOTE for data balancing\n",
        "from imblearn.over_sampling import SMOTE\n",
        "\n",
        "# Splitting the data\n",
        "from sklearn.model_selection import train_test_split\n",
        "\n",
        "# Scaling\n",
        "from sklearn.preprocessing import StandardScaler\n",
        "\n",
        "# Hyperparameter Tuning\n",
        "from sklearn.model_selection import GridSearchCV\n",
        "\n",
        "\n",
        "# Modelling\n",
        "from xgboost import XGBClassifier\n",
        "from sklearn.ensemble import RandomForestClassifier\n",
        "from sklearn.metrics import *\n",
        "from sklearn.linear_model import LogisticRegression\n",
        "from sklearn.ensemble import RandomForestClassifier, GradientBoostingClassifier\n",
        "from sklearn.svm import SVC\n",
        "from sklearn.naive_bayes import GaussianNB\n",
        "from sklearn.neighbors import KNeighborsClassifier\n",
        "from sklearn.tree import DecisionTreeClassifier\n",
        "from xgboost import XGBClassifier\n",
        "from lightgbm import LGBMClassifier\n",
        "\n",
        "#Model Evaluation\n",
        "from sklearn.metrics import accuracy_score, precision_score, recall_score, f1_score, roc_auc_score\n",
        "\n",
        "# Exporting the Model\n",
        "import pickle"
      ]
    },
    {
      "cell_type": "markdown",
      "id": "8cd201ba-d747-41ba-ad64-55037a202d9a",
      "metadata": {
        "id": "8cd201ba-d747-41ba-ad64-55037a202d9a"
      },
      "source": [
        "# Data Loading"
      ]
    },
    {
      "cell_type": "code",
      "execution_count": 2,
      "id": "ee9abcca-0f8b-49c8-aba7-04cacd273997",
      "metadata": {
        "id": "ee9abcca-0f8b-49c8-aba7-04cacd273997"
      },
      "outputs": [],
      "source": [
        "train = pd.read_csv(\"Data/Paitients_Files_Train.csv\")\n",
        "test = pd.read_csv(\"Data/Paitients_Files_Test.csv\")"
      ]
    },
    {
      "cell_type": "markdown",
      "id": "55948fa6-ca3b-433a-9624-daf7ce172466",
      "metadata": {
        "id": "55948fa6-ca3b-433a-9624-daf7ce172466"
      },
      "source": [
        "# Data Understanding\n",
        "\n",
        "* ID: number to represent patient ID\n",
        "\n",
        "* PRG: Plasma glucose\n",
        "\n",
        "* PL: Blood Work Result-1 (mu U/ml)\n",
        "\n",
        "* PR: Blood Pressure (mmHg)\n",
        "\n",
        "* SK: Blood Work Result-2(mm)\n",
        "\n",
        "* TS: Blood Work Result-3 (muU/ml)\n",
        "\n",
        "* M11: Body mass index (weight in kg/(height in m)^2\n",
        "\n",
        "* BD2: Blood Work Result-4 (mu U/ml)\n",
        "\n",
        "* Age: patients age(years)\n",
        "\n",
        "* Insurance: If a patient holds a valid insurance card\n",
        "\n",
        "* Sepsis: Positive: if a patient in ICU will develop a sepsis , and Negative: otherwis otherwise"
      ]
    },
    {
      "cell_type": "code",
      "execution_count": 3,
      "id": "29832374-b53e-4924-953f-0af5a8f5f765",
      "metadata": {
        "colab": {
          "base_uri": "https://localhost:8080/"
        },
        "id": "29832374-b53e-4924-953f-0af5a8f5f765",
        "outputId": "f7a8c578-f729-4062-bd67-0238f6d316be"
      },
      "outputs": [
        {
          "data": {
            "text/plain": [
              "((599, 11), (169, 10))"
            ]
          },
          "execution_count": 3,
          "metadata": {},
          "output_type": "execute_result"
        }
      ],
      "source": [
        "train.shape,test.shape"
      ]
    },
    {
      "cell_type": "markdown",
      "id": "95f5a9f0-ed41-4aa4-a8b3-800bd3b9d98b",
      "metadata": {
        "id": "95f5a9f0-ed41-4aa4-a8b3-800bd3b9d98b"
      },
      "source": [
        "The training dataset has 599 rows and 11 columns, while the test dataset has 169 rows and 10 columns."
      ]
    },
    {
      "cell_type": "code",
      "execution_count": 4,
      "id": "03c4470e-b659-4266-8b24-88676353a98b",
      "metadata": {
        "colab": {
          "base_uri": "https://localhost:8080/",
          "height": 206
        },
        "id": "03c4470e-b659-4266-8b24-88676353a98b",
        "outputId": "9c333630-02c5-404a-e83a-f05a5cf610a0"
      },
      "outputs": [
        {
          "data": {
            "text/html": [
              "<div>\n",
              "<style scoped>\n",
              "    .dataframe tbody tr th:only-of-type {\n",
              "        vertical-align: middle;\n",
              "    }\n",
              "\n",
              "    .dataframe tbody tr th {\n",
              "        vertical-align: top;\n",
              "    }\n",
              "\n",
              "    .dataframe thead th {\n",
              "        text-align: right;\n",
              "    }\n",
              "</style>\n",
              "<table border=\"1\" class=\"dataframe\">\n",
              "  <thead>\n",
              "    <tr style=\"text-align: right;\">\n",
              "      <th></th>\n",
              "      <th>ID</th>\n",
              "      <th>PRG</th>\n",
              "      <th>PL</th>\n",
              "      <th>PR</th>\n",
              "      <th>SK</th>\n",
              "      <th>TS</th>\n",
              "      <th>M11</th>\n",
              "      <th>BD2</th>\n",
              "      <th>Age</th>\n",
              "      <th>Insurance</th>\n",
              "      <th>Sepssis</th>\n",
              "    </tr>\n",
              "  </thead>\n",
              "  <tbody>\n",
              "    <tr>\n",
              "      <th>0</th>\n",
              "      <td>ICU200010</td>\n",
              "      <td>6</td>\n",
              "      <td>148</td>\n",
              "      <td>72</td>\n",
              "      <td>35</td>\n",
              "      <td>0</td>\n",
              "      <td>33.6</td>\n",
              "      <td>0.627</td>\n",
              "      <td>50</td>\n",
              "      <td>0</td>\n",
              "      <td>Positive</td>\n",
              "    </tr>\n",
              "    <tr>\n",
              "      <th>1</th>\n",
              "      <td>ICU200011</td>\n",
              "      <td>1</td>\n",
              "      <td>85</td>\n",
              "      <td>66</td>\n",
              "      <td>29</td>\n",
              "      <td>0</td>\n",
              "      <td>26.6</td>\n",
              "      <td>0.351</td>\n",
              "      <td>31</td>\n",
              "      <td>0</td>\n",
              "      <td>Negative</td>\n",
              "    </tr>\n",
              "    <tr>\n",
              "      <th>2</th>\n",
              "      <td>ICU200012</td>\n",
              "      <td>8</td>\n",
              "      <td>183</td>\n",
              "      <td>64</td>\n",
              "      <td>0</td>\n",
              "      <td>0</td>\n",
              "      <td>23.3</td>\n",
              "      <td>0.672</td>\n",
              "      <td>32</td>\n",
              "      <td>1</td>\n",
              "      <td>Positive</td>\n",
              "    </tr>\n",
              "    <tr>\n",
              "      <th>3</th>\n",
              "      <td>ICU200013</td>\n",
              "      <td>1</td>\n",
              "      <td>89</td>\n",
              "      <td>66</td>\n",
              "      <td>23</td>\n",
              "      <td>94</td>\n",
              "      <td>28.1</td>\n",
              "      <td>0.167</td>\n",
              "      <td>21</td>\n",
              "      <td>1</td>\n",
              "      <td>Negative</td>\n",
              "    </tr>\n",
              "    <tr>\n",
              "      <th>4</th>\n",
              "      <td>ICU200014</td>\n",
              "      <td>0</td>\n",
              "      <td>137</td>\n",
              "      <td>40</td>\n",
              "      <td>35</td>\n",
              "      <td>168</td>\n",
              "      <td>43.1</td>\n",
              "      <td>2.288</td>\n",
              "      <td>33</td>\n",
              "      <td>1</td>\n",
              "      <td>Positive</td>\n",
              "    </tr>\n",
              "  </tbody>\n",
              "</table>\n",
              "</div>"
            ],
            "text/plain": [
              "          ID  PRG   PL  PR  SK   TS   M11    BD2  Age  Insurance   Sepssis\n",
              "0  ICU200010    6  148  72  35    0  33.6  0.627   50          0  Positive\n",
              "1  ICU200011    1   85  66  29    0  26.6  0.351   31          0  Negative\n",
              "2  ICU200012    8  183  64   0    0  23.3  0.672   32          1  Positive\n",
              "3  ICU200013    1   89  66  23   94  28.1  0.167   21          1  Negative\n",
              "4  ICU200014    0  137  40  35  168  43.1  2.288   33          1  Positive"
            ]
          },
          "execution_count": 4,
          "metadata": {},
          "output_type": "execute_result"
        }
      ],
      "source": [
        "train.head()"
      ]
    },
    {
      "cell_type": "code",
      "execution_count": 5,
      "id": "76f7c85f-02fd-4309-bbf6-fa7765b76433",
      "metadata": {
        "colab": {
          "base_uri": "https://localhost:8080/",
          "height": 206
        },
        "id": "76f7c85f-02fd-4309-bbf6-fa7765b76433",
        "outputId": "d646b436-08d2-4b75-902d-8988ed9e71cb"
      },
      "outputs": [
        {
          "data": {
            "text/html": [
              "<div>\n",
              "<style scoped>\n",
              "    .dataframe tbody tr th:only-of-type {\n",
              "        vertical-align: middle;\n",
              "    }\n",
              "\n",
              "    .dataframe tbody tr th {\n",
              "        vertical-align: top;\n",
              "    }\n",
              "\n",
              "    .dataframe thead th {\n",
              "        text-align: right;\n",
              "    }\n",
              "</style>\n",
              "<table border=\"1\" class=\"dataframe\">\n",
              "  <thead>\n",
              "    <tr style=\"text-align: right;\">\n",
              "      <th></th>\n",
              "      <th>ID</th>\n",
              "      <th>PRG</th>\n",
              "      <th>PL</th>\n",
              "      <th>PR</th>\n",
              "      <th>SK</th>\n",
              "      <th>TS</th>\n",
              "      <th>M11</th>\n",
              "      <th>BD2</th>\n",
              "      <th>Age</th>\n",
              "      <th>Insurance</th>\n",
              "    </tr>\n",
              "  </thead>\n",
              "  <tbody>\n",
              "    <tr>\n",
              "      <th>0</th>\n",
              "      <td>ICU200609</td>\n",
              "      <td>1</td>\n",
              "      <td>109</td>\n",
              "      <td>38</td>\n",
              "      <td>18</td>\n",
              "      <td>120</td>\n",
              "      <td>23.1</td>\n",
              "      <td>0.407</td>\n",
              "      <td>26</td>\n",
              "      <td>1</td>\n",
              "    </tr>\n",
              "    <tr>\n",
              "      <th>1</th>\n",
              "      <td>ICU200610</td>\n",
              "      <td>1</td>\n",
              "      <td>108</td>\n",
              "      <td>88</td>\n",
              "      <td>19</td>\n",
              "      <td>0</td>\n",
              "      <td>27.1</td>\n",
              "      <td>0.400</td>\n",
              "      <td>24</td>\n",
              "      <td>1</td>\n",
              "    </tr>\n",
              "    <tr>\n",
              "      <th>2</th>\n",
              "      <td>ICU200611</td>\n",
              "      <td>6</td>\n",
              "      <td>96</td>\n",
              "      <td>0</td>\n",
              "      <td>0</td>\n",
              "      <td>0</td>\n",
              "      <td>23.7</td>\n",
              "      <td>0.190</td>\n",
              "      <td>28</td>\n",
              "      <td>1</td>\n",
              "    </tr>\n",
              "    <tr>\n",
              "      <th>3</th>\n",
              "      <td>ICU200612</td>\n",
              "      <td>1</td>\n",
              "      <td>124</td>\n",
              "      <td>74</td>\n",
              "      <td>36</td>\n",
              "      <td>0</td>\n",
              "      <td>27.8</td>\n",
              "      <td>0.100</td>\n",
              "      <td>30</td>\n",
              "      <td>1</td>\n",
              "    </tr>\n",
              "    <tr>\n",
              "      <th>4</th>\n",
              "      <td>ICU200613</td>\n",
              "      <td>7</td>\n",
              "      <td>150</td>\n",
              "      <td>78</td>\n",
              "      <td>29</td>\n",
              "      <td>126</td>\n",
              "      <td>35.2</td>\n",
              "      <td>0.692</td>\n",
              "      <td>54</td>\n",
              "      <td>0</td>\n",
              "    </tr>\n",
              "  </tbody>\n",
              "</table>\n",
              "</div>"
            ],
            "text/plain": [
              "          ID  PRG   PL  PR  SK   TS   M11    BD2  Age  Insurance\n",
              "0  ICU200609    1  109  38  18  120  23.1  0.407   26          1\n",
              "1  ICU200610    1  108  88  19    0  27.1  0.400   24          1\n",
              "2  ICU200611    6   96   0   0    0  23.7  0.190   28          1\n",
              "3  ICU200612    1  124  74  36    0  27.8  0.100   30          1\n",
              "4  ICU200613    7  150  78  29  126  35.2  0.692   54          0"
            ]
          },
          "execution_count": 5,
          "metadata": {},
          "output_type": "execute_result"
        }
      ],
      "source": [
        "test.head()"
      ]
    },
    {
      "cell_type": "code",
      "execution_count": 6,
      "id": "eb2bc562-4414-4dc2-a8e5-f447a39ee3b0",
      "metadata": {
        "colab": {
          "base_uri": "https://localhost:8080/"
        },
        "id": "eb2bc562-4414-4dc2-a8e5-f447a39ee3b0",
        "outputId": "7e6a219d-b1d1-4476-f438-cb1d11f0b901"
      },
      "outputs": [
        {
          "name": "stdout",
          "output_type": "stream",
          "text": [
            "<class 'pandas.core.frame.DataFrame'>\n",
            "RangeIndex: 599 entries, 0 to 598\n",
            "Data columns (total 11 columns):\n",
            " #   Column     Non-Null Count  Dtype  \n",
            "---  ------     --------------  -----  \n",
            " 0   ID         599 non-null    object \n",
            " 1   PRG        599 non-null    int64  \n",
            " 2   PL         599 non-null    int64  \n",
            " 3   PR         599 non-null    int64  \n",
            " 4   SK         599 non-null    int64  \n",
            " 5   TS         599 non-null    int64  \n",
            " 6   M11        599 non-null    float64\n",
            " 7   BD2        599 non-null    float64\n",
            " 8   Age        599 non-null    int64  \n",
            " 9   Insurance  599 non-null    int64  \n",
            " 10  Sepssis    599 non-null    object \n",
            "dtypes: float64(2), int64(7), object(2)\n",
            "memory usage: 51.6+ KB\n"
          ]
        }
      ],
      "source": [
        "train.info()"
      ]
    },
    {
      "cell_type": "markdown",
      "id": "e8f24cf8-a433-4d80-a717-290882704b1d",
      "metadata": {
        "id": "e8f24cf8-a433-4d80-a717-290882704b1d"
      },
      "source": [
        "The training dataset has 599 entries(columns) and 11 rows. All the columns have 599 entries, which shows that there are no missing values. Sepsis is wrongly mispelled as Sepssis."
      ]
    },
    {
      "cell_type": "code",
      "execution_count": 7,
      "id": "caa80b47-f00b-49e7-8f69-5a66c2a89796",
      "metadata": {
        "colab": {
          "base_uri": "https://localhost:8080/"
        },
        "id": "caa80b47-f00b-49e7-8f69-5a66c2a89796",
        "outputId": "11777b08-54ab-47e6-d789-146ca9f8203c"
      },
      "outputs": [
        {
          "name": "stdout",
          "output_type": "stream",
          "text": [
            "<class 'pandas.core.frame.DataFrame'>\n",
            "RangeIndex: 169 entries, 0 to 168\n",
            "Data columns (total 10 columns):\n",
            " #   Column     Non-Null Count  Dtype  \n",
            "---  ------     --------------  -----  \n",
            " 0   ID         169 non-null    object \n",
            " 1   PRG        169 non-null    int64  \n",
            " 2   PL         169 non-null    int64  \n",
            " 3   PR         169 non-null    int64  \n",
            " 4   SK         169 non-null    int64  \n",
            " 5   TS         169 non-null    int64  \n",
            " 6   M11        169 non-null    float64\n",
            " 7   BD2        169 non-null    float64\n",
            " 8   Age        169 non-null    int64  \n",
            " 9   Insurance  169 non-null    int64  \n",
            "dtypes: float64(2), int64(7), object(1)\n",
            "memory usage: 13.3+ KB\n"
          ]
        }
      ],
      "source": [
        "test.info()"
      ]
    },
    {
      "cell_type": "markdown",
      "id": "68377f32-df6c-493a-8638-61e9158b4d3d",
      "metadata": {
        "id": "68377f32-df6c-493a-8638-61e9158b4d3d"
      },
      "source": [
        "The test dataset has 169 entries and 10 columns. The sepsis column is missing unlike in the train dataset"
      ]
    },
    {
      "cell_type": "code",
      "execution_count": 8,
      "id": "4d2a223c-f675-4233-a9f0-172593e33bf5",
      "metadata": {
        "colab": {
          "base_uri": "https://localhost:8080/",
          "height": 331
        },
        "id": "4d2a223c-f675-4233-a9f0-172593e33bf5",
        "outputId": "39b2303a-ed5a-4d26-b484-08f8abb3c029",
        "scrolled": true
      },
      "outputs": [
        {
          "data": {
            "text/html": [
              "<div>\n",
              "<style scoped>\n",
              "    .dataframe tbody tr th:only-of-type {\n",
              "        vertical-align: middle;\n",
              "    }\n",
              "\n",
              "    .dataframe tbody tr th {\n",
              "        vertical-align: top;\n",
              "    }\n",
              "\n",
              "    .dataframe thead th {\n",
              "        text-align: right;\n",
              "    }\n",
              "</style>\n",
              "<table border=\"1\" class=\"dataframe\">\n",
              "  <thead>\n",
              "    <tr style=\"text-align: right;\">\n",
              "      <th></th>\n",
              "      <th>count</th>\n",
              "      <th>mean</th>\n",
              "      <th>std</th>\n",
              "      <th>min</th>\n",
              "      <th>25%</th>\n",
              "      <th>50%</th>\n",
              "      <th>75%</th>\n",
              "      <th>max</th>\n",
              "    </tr>\n",
              "  </thead>\n",
              "  <tbody>\n",
              "    <tr>\n",
              "      <th>PRG</th>\n",
              "      <td>599.0</td>\n",
              "      <td>3.824708</td>\n",
              "      <td>3.362839</td>\n",
              "      <td>0.000</td>\n",
              "      <td>1.000</td>\n",
              "      <td>3.000</td>\n",
              "      <td>6.000</td>\n",
              "      <td>17.00</td>\n",
              "    </tr>\n",
              "    <tr>\n",
              "      <th>PL</th>\n",
              "      <td>599.0</td>\n",
              "      <td>120.153589</td>\n",
              "      <td>32.682364</td>\n",
              "      <td>0.000</td>\n",
              "      <td>99.000</td>\n",
              "      <td>116.000</td>\n",
              "      <td>140.000</td>\n",
              "      <td>198.00</td>\n",
              "    </tr>\n",
              "    <tr>\n",
              "      <th>PR</th>\n",
              "      <td>599.0</td>\n",
              "      <td>68.732888</td>\n",
              "      <td>19.335675</td>\n",
              "      <td>0.000</td>\n",
              "      <td>64.000</td>\n",
              "      <td>70.000</td>\n",
              "      <td>80.000</td>\n",
              "      <td>122.00</td>\n",
              "    </tr>\n",
              "    <tr>\n",
              "      <th>SK</th>\n",
              "      <td>599.0</td>\n",
              "      <td>20.562604</td>\n",
              "      <td>16.017622</td>\n",
              "      <td>0.000</td>\n",
              "      <td>0.000</td>\n",
              "      <td>23.000</td>\n",
              "      <td>32.000</td>\n",
              "      <td>99.00</td>\n",
              "    </tr>\n",
              "    <tr>\n",
              "      <th>TS</th>\n",
              "      <td>599.0</td>\n",
              "      <td>79.460768</td>\n",
              "      <td>116.576176</td>\n",
              "      <td>0.000</td>\n",
              "      <td>0.000</td>\n",
              "      <td>36.000</td>\n",
              "      <td>123.500</td>\n",
              "      <td>846.00</td>\n",
              "    </tr>\n",
              "    <tr>\n",
              "      <th>M11</th>\n",
              "      <td>599.0</td>\n",
              "      <td>31.920033</td>\n",
              "      <td>8.008227</td>\n",
              "      <td>0.000</td>\n",
              "      <td>27.100</td>\n",
              "      <td>32.000</td>\n",
              "      <td>36.550</td>\n",
              "      <td>67.10</td>\n",
              "    </tr>\n",
              "    <tr>\n",
              "      <th>BD2</th>\n",
              "      <td>599.0</td>\n",
              "      <td>0.481187</td>\n",
              "      <td>0.337552</td>\n",
              "      <td>0.078</td>\n",
              "      <td>0.248</td>\n",
              "      <td>0.383</td>\n",
              "      <td>0.647</td>\n",
              "      <td>2.42</td>\n",
              "    </tr>\n",
              "    <tr>\n",
              "      <th>Age</th>\n",
              "      <td>599.0</td>\n",
              "      <td>33.290484</td>\n",
              "      <td>11.828446</td>\n",
              "      <td>21.000</td>\n",
              "      <td>24.000</td>\n",
              "      <td>29.000</td>\n",
              "      <td>40.000</td>\n",
              "      <td>81.00</td>\n",
              "    </tr>\n",
              "    <tr>\n",
              "      <th>Insurance</th>\n",
              "      <td>599.0</td>\n",
              "      <td>0.686144</td>\n",
              "      <td>0.464447</td>\n",
              "      <td>0.000</td>\n",
              "      <td>0.000</td>\n",
              "      <td>1.000</td>\n",
              "      <td>1.000</td>\n",
              "      <td>1.00</td>\n",
              "    </tr>\n",
              "  </tbody>\n",
              "</table>\n",
              "</div>"
            ],
            "text/plain": [
              "           count        mean         std     min     25%      50%      75%   \n",
              "PRG        599.0    3.824708    3.362839   0.000   1.000    3.000    6.000  \\\n",
              "PL         599.0  120.153589   32.682364   0.000  99.000  116.000  140.000   \n",
              "PR         599.0   68.732888   19.335675   0.000  64.000   70.000   80.000   \n",
              "SK         599.0   20.562604   16.017622   0.000   0.000   23.000   32.000   \n",
              "TS         599.0   79.460768  116.576176   0.000   0.000   36.000  123.500   \n",
              "M11        599.0   31.920033    8.008227   0.000  27.100   32.000   36.550   \n",
              "BD2        599.0    0.481187    0.337552   0.078   0.248    0.383    0.647   \n",
              "Age        599.0   33.290484   11.828446  21.000  24.000   29.000   40.000   \n",
              "Insurance  599.0    0.686144    0.464447   0.000   0.000    1.000    1.000   \n",
              "\n",
              "              max  \n",
              "PRG         17.00  \n",
              "PL         198.00  \n",
              "PR         122.00  \n",
              "SK          99.00  \n",
              "TS         846.00  \n",
              "M11         67.10  \n",
              "BD2          2.42  \n",
              "Age         81.00  \n",
              "Insurance    1.00  "
            ]
          },
          "execution_count": 8,
          "metadata": {},
          "output_type": "execute_result"
        }
      ],
      "source": [
        "# Descriptive statistics of the train dataset\n",
        "train.describe().T"
      ]
    },
    {
      "cell_type": "code",
      "execution_count": 9,
      "id": "29ba2769-9e82-445b-bdea-b2e05a7df91d",
      "metadata": {
        "colab": {
          "base_uri": "https://localhost:8080/"
        },
        "id": "29ba2769-9e82-445b-bdea-b2e05a7df91d",
        "outputId": "ffa1f860-ffd0-4dda-a100-0439f2dd25d5"
      },
      "outputs": [
        {
          "data": {
            "text/plain": [
              "ID           0\n",
              "PRG          0\n",
              "PL           0\n",
              "PR           0\n",
              "SK           0\n",
              "TS           0\n",
              "M11          0\n",
              "BD2          0\n",
              "Age          0\n",
              "Insurance    0\n",
              "Sepssis      0\n",
              "dtype: int64"
            ]
          },
          "execution_count": 9,
          "metadata": {},
          "output_type": "execute_result"
        }
      ],
      "source": [
        "#Checking for Missing Values\n",
        "train.isna().sum()"
      ]
    },
    {
      "cell_type": "code",
      "execution_count": 10,
      "id": "57ec2ee8-1243-449d-8beb-fbc37796fc9e",
      "metadata": {
        "colab": {
          "base_uri": "https://localhost:8080/"
        },
        "id": "57ec2ee8-1243-449d-8beb-fbc37796fc9e",
        "outputId": "fb273a93-fa25-43f0-baf2-9a5735f5af43"
      },
      "outputs": [
        {
          "data": {
            "text/plain": [
              "ID           0\n",
              "PRG          0\n",
              "PL           0\n",
              "PR           0\n",
              "SK           0\n",
              "TS           0\n",
              "M11          0\n",
              "BD2          0\n",
              "Age          0\n",
              "Insurance    0\n",
              "dtype: int64"
            ]
          },
          "execution_count": 10,
          "metadata": {},
          "output_type": "execute_result"
        }
      ],
      "source": [
        "# Missing Values in the test dataset\n",
        "test.isna().sum()"
      ]
    },
    {
      "cell_type": "code",
      "execution_count": 11,
      "id": "053c15b5-83f0-4681-a474-4f86274fbf04",
      "metadata": {
        "colab": {
          "base_uri": "https://localhost:8080/"
        },
        "id": "053c15b5-83f0-4681-a474-4f86274fbf04",
        "outputId": "cf390909-3c9c-4661-f88e-a712ce4253b2"
      },
      "outputs": [
        {
          "data": {
            "text/plain": [
              "Sepssis\n",
              "Negative    391\n",
              "Positive    208\n",
              "Name: count, dtype: int64"
            ]
          },
          "execution_count": 11,
          "metadata": {},
          "output_type": "execute_result"
        }
      ],
      "source": [
        "# Categories in the Sepssis column\n",
        "train['Sepssis'].value_counts()"
      ]
    },
    {
      "cell_type": "code",
      "execution_count": 12,
      "id": "223c0f5d-0325-4193-ac49-78f94853b7ed",
      "metadata": {
        "colab": {
          "base_uri": "https://localhost:8080/"
        },
        "id": "223c0f5d-0325-4193-ac49-78f94853b7ed",
        "outputId": "ad311eb3-dae9-4542-cd83-fcfcc909bd3f"
      },
      "outputs": [
        {
          "data": {
            "text/plain": [
              "Index(['ID', 'PRG', 'PL', 'PR', 'SK', 'TS', 'M11', 'BD2', 'Age', 'Insurance',\n",
              "       'Sepssis'],\n",
              "      dtype='object')"
            ]
          },
          "execution_count": 12,
          "metadata": {},
          "output_type": "execute_result"
        }
      ],
      "source": [
        "# Columns in the Train dataset\n",
        "train.columns"
      ]
    },
    {
      "cell_type": "markdown",
      "id": "55ff7da5-51d9-4e32-a046-62f8ca0cf26c",
      "metadata": {
        "id": "55ff7da5-51d9-4e32-a046-62f8ca0cf26c"
      },
      "source": [
        "# Exploratory Data Analysis\n",
        "## Univariate Analysis"
      ]
    },
    {
      "cell_type": "markdown",
      "id": "56b087ac-9bca-4f9b-bfa7-46725414b9a5",
      "metadata": {
        "id": "56b087ac-9bca-4f9b-bfa7-46725414b9a5"
      },
      "source": [
        "### 1. What the distribution of sepsis"
      ]
    },
    {
      "cell_type": "code",
      "execution_count": 13,
      "id": "9d8319a2-1fbf-4479-8ed5-7663c7e3d8b3",
      "metadata": {
        "colab": {
          "base_uri": "https://localhost:8080/",
          "height": 449
        },
        "id": "9d8319a2-1fbf-4479-8ed5-7663c7e3d8b3",
        "outputId": "9c075171-63dc-40ce-d2f6-411353fdfedd"
      },
      "outputs": [
        {
          "data": {
            "image/png": "[encoded data removed]",
            "text/plain": [
              "<Figure size 640x480 with 1 Axes>"
            ]
          },
          "metadata": {},
          "output_type": "display_data"
        }
      ],
      "source": [
        "# Distribution of Sepssis\n",
        "sns.countplot(x='Sepssis',data=train)\n",
        "plt.show()"
      ]
    },
    {
      "cell_type": "markdown",
      "id": "c6a23bf1-c6d7-45ea-b248-de60ec710691",
      "metadata": {
        "id": "c6a23bf1-c6d7-45ea-b248-de60ec710691"
      },
      "source": [
        "There are 391 negative cases which are the patients who did not develop sepsis during their stay in the intensive Care Unit(ICU). The positive cases are 208, which are the patients who developed sepsis during their stay in the ICU. The larger proportion of the patients did not develop sepsis, whole a smaller proportion did develop sepsis."
      ]
    },
    {
      "cell_type": "markdown",
      "id": "c0aef676-53f3-4acb-b74e-d2d1cc73ed5a",
      "metadata": {
        "id": "c0aef676-53f3-4acb-b74e-d2d1cc73ed5a"
      },
      "source": [
        "## 2. What is the distribution of ages for patients captured in the data?\n"
      ]
    },
    {
      "cell_type": "code",
      "execution_count": 14,
      "id": "a448d472-742d-4f95-b3fd-315e81232251",
      "metadata": {
        "colab": {
          "base_uri": "https://localhost:8080/",
          "height": 561
        },
        "id": "a448d472-742d-4f95-b3fd-315e81232251",
        "outputId": "fea048ab-6f49-40fa-e512-1b726f5cf9c8"
      },
      "outputs": [
        {
          "data": {
            "image/png": "[encoded data removed]",
            "text/plain": [
              "<Figure size 700x500 with 1 Axes>"
            ]
          },
          "metadata": {},
          "output_type": "display_data"
        },
        {
          "name": "stdout",
          "output_type": "stream",
          "text": [
            "Mean Age: 33.29\n",
            "Median Age: 29.0\n",
            "Minimum Age: 21\n",
            "Maximum Age: 81\n"
          ]
        }
      ],
      "source": [
        "# We plot the distribution of ages for all the patients\n",
        "plt.figure(figsize=(7,5))\n",
        "plt.hist(train['Age'],bins=7,range = (20,90),edgecolor='k',alpha=0.7)\n",
        "plt.title(\"Distribution of Patients Age\")\n",
        "plt.xlabel(\"Age\")\n",
        "plt.ylabel(\"Frequency\")\n",
        "plt.show()\n",
        "\n",
        "# Calculating the summary statistics of the age column\n",
        "mean_age = train['Age'].mean()\n",
        "median_age = train['Age'].median()\n",
        "min_age = train['Age'].min()\n",
        "max_age = train['Age'].max()\n",
        "\n",
        "# Print summary statistics\n",
        "print(f\"Mean Age: {mean_age:.2f}\")\n",
        "print(f\"Median Age: {median_age}\")\n",
        "print(f\"Minimum Age: {min_age}\")\n",
        "print(f\"Maximum Age: {max_age}\")\n"
      ]
    },
    {
      "cell_type": "markdown",
      "id": "6d158970-fdbd-498d-ac57-fde7b4db9721",
      "metadata": {
        "id": "6d158970-fdbd-498d-ac57-fde7b4db9721"
      },
      "source": [
        "From the histogram, the age group from 20-30 years has the highest number of patients, with more than 300 individuals.This suggests that majority of the patients are relatively young, followed by a gradual decline in the number of patients in older age groups.The age range is widely distributed, including both young and elderly individuals.\n",
        "The mean age of patients in the dataset is approximatel 33.29 years. The median age is 29.0 years, which suggests that half of the a patients are below 29 years old and half are above 29 years old. The youngest patient is 21 years and the oldest patient is 81 years old."
      ]
    },
    {
      "cell_type": "markdown",
      "id": "f2f3f09a-f93e-48d3-b57e-cea1c14ca389",
      "metadata": {
        "id": "f2f3f09a-f93e-48d3-b57e-cea1c14ca389"
      },
      "source": [
        "## 3. How many patiients have insurance?\n"
      ]
    },
    {
      "cell_type": "code",
      "execution_count": 15,
      "id": "ff904150-da42-4ef8-95c8-f60c373fcf75",
      "metadata": {
        "colab": {
          "base_uri": "https://localhost:8080/",
          "height": 428
        },
        "id": "ff904150-da42-4ef8-95c8-f60c373fcf75",
        "outputId": "8af80d56-8b83-49ce-ec57-7cc26795e903"
      },
      "outputs": [
        {
          "data": {
            "image/png": "[encoded data removed]",
            "text/plain": [
              "<Figure size 640x480 with 1 Axes>"
            ]
          },
          "metadata": {},
          "output_type": "display_data"
        }
      ],
      "source": [
        "#We count the number of patients with insurance\n",
        "insurance_count = train['Insurance'].value_counts()\n",
        "labels = ['Insurance','No Insurance']\n",
        "plt.title('Distribution of Patients by Insurance')\n",
        "# We plot the pie chart\n",
        "plt.pie(insurance_count,labels=labels,autopct='%1.1f%%', startangle=90)\n",
        "plt.show()"
      ]
    },
    {
      "cell_type": "markdown",
      "id": "bcdd0657-ba52-459f-b30b-7ba6c73925cb",
      "metadata": {
        "id": "bcdd0657-ba52-459f-b30b-7ba6c73925cb"
      },
      "source": [
        "The larger portion of the pie chart is dedicated to patients with insurance, represented as \"Insurance: 1.\"\n",
        "The percentage value (68.6%) next to this segment indicates that approximately 68.6% of the patients in the dataset have insurance while 31.4% of the patients do not have insurance."
      ]
    },
    {
      "cell_type": "markdown",
      "id": "n6peTx9zA3ky",
      "metadata": {
        "id": "n6peTx9zA3ky"
      },
      "source": [
        "## 4. Is Blood Pressure affected by Age?\n"
      ]
    },
    {
      "cell_type": "code",
      "execution_count": 16,
      "id": "fcS6HW5DBFwD",
      "metadata": {
        "colab": {
          "base_uri": "https://localhost:8080/",
          "height": 641
        },
        "id": "fcS6HW5DBFwD",
        "outputId": "d0509f60-1642-49bd-8994-c440527fedc4"
      },
      "outputs": [
        {
          "data": {
            "image/png": "[encoded data removed]",
            "text/plain": [
              "<Figure size 800x700 with 1 Axes>"
            ]
          },
          "metadata": {},
          "output_type": "display_data"
        }
      ],
      "source": [
        "plt.figure(figsize=(8,7))\n",
        "plt.scatter(train['Age'],train['PR'],alpha=0.7)\n",
        "plt.xlabel('Age')\n",
        "plt.ylabel('Blood Pressure')\n",
        "plt.title(\"Scatter Plot of Age vs Blood Pressure\")\n",
        "plt.show()"
      ]
    },
    {
      "cell_type": "markdown",
      "id": "TmWXDPp0kisZ",
      "metadata": {
        "id": "TmWXDPp0kisZ"
      },
      "source": [
        "Most of the Values lie between 40 and 80. This represents the systolic or diastolic blood pressure values. Most of the values cluster within this range which indicates that blood pressure tends to be within a relatively normal or typical range for a large portion of the population in the dataset."
      ]
    },
    {
      "cell_type": "markdown",
      "id": "S_nXVONErSEN",
      "metadata": {
        "id": "S_nXVONErSEN"
      },
      "source": [
        "## Correlation Between the features\n",
        "The correlation between each feature must be investigated to find out if any pair of features are highly correlated (e.g., one feature can predict another feature). If two features are highly correlated, they are possibly redundant and one should be removed to reduce the dimension of the dataset and avoid multicollinearity. For this task, a statistical test for correlation is carried out: Pearson's  R. Pearson's R tests for linear correlation between two continuous variables. The Pearson correlation coefficient R ranges between -1 (perfectly negative linear correlation) to 1 (perfectly positive linear correlation), and 0 means there is no correlation between the two variables."
      ]
    },
    {
      "cell_type": "code",
      "execution_count": 17,
      "id": "BtUe1kCTnFMW",
      "metadata": {
        "colab": {
          "base_uri": "https://localhost:8080/",
          "height": 608
        },
        "id": "BtUe1kCTnFMW",
        "outputId": "ae5fdb95-7ad0-45fe-ba67-e675a5ad8f90"
      },
      "outputs": [
        {
          "ename": "ValueError",
          "evalue": "could not convert string to float: 'ICU200010'",
          "output_type": "error",
          "traceback": [
            "\u001b[0;31m---------------------------------------------------------------------------\u001b[0m",
            "\u001b[0;31mValueError\u001b[0m                                Traceback (most recent call last)",
            "\u001b[1;32m/Users/fiifiabassah-konadu/Documents/Sepsis-Modelling/Sepsis_Prediction.ipynb Cell 34\u001b[0m line \u001b[0;36m2\n\u001b[1;32m      <a href='vscode-notebook-cell:/Users/fiifiabassah-konadu/Documents/Sepsis-Modelling/Sepsis_Prediction.ipynb#X45sZmlsZQ%3D%3D?line=0'>1</a>\u001b[0m \u001b[39m# Calculating correlation\u001b[39;00m\n\u001b[0;32m----> <a href='vscode-notebook-cell:/Users/fiifiabassah-konadu/Documents/Sepsis-Modelling/Sepsis_Prediction.ipynb#X45sZmlsZQ%3D%3D?line=1'>2</a>\u001b[0m pearson_r \u001b[39m=\u001b[39m train\u001b[39m.\u001b[39;49mcorr(method\u001b[39m=\u001b[39;49m\u001b[39m'\u001b[39;49m\u001b[39mpearson\u001b[39;49m\u001b[39m'\u001b[39;49m)\n\u001b[1;32m      <a href='vscode-notebook-cell:/Users/fiifiabassah-konadu/Documents/Sepsis-Modelling/Sepsis_Prediction.ipynb#X45sZmlsZQ%3D%3D?line=2'>3</a>\u001b[0m \u001b[39m# Plotting a heatmap\u001b[39;00m\n\u001b[1;32m      <a href='vscode-notebook-cell:/Users/fiifiabassah-konadu/Documents/Sepsis-Modelling/Sepsis_Prediction.ipynb#X45sZmlsZQ%3D%3D?line=3'>4</a>\u001b[0m sns\u001b[39m.\u001b[39mset_theme()\n",
            "File \u001b[0;32m/Library/Frameworks/Python.framework/Versions/3.11/lib/python3.11/site-packages/pandas/core/frame.py:10059\u001b[0m, in \u001b[0;36mDataFrame.corr\u001b[0;34m(self, method, min_periods, numeric_only)\u001b[0m\n\u001b[1;32m  10057\u001b[0m cols \u001b[39m=\u001b[39m data\u001b[39m.\u001b[39mcolumns\n\u001b[1;32m  10058\u001b[0m idx \u001b[39m=\u001b[39m cols\u001b[39m.\u001b[39mcopy()\n\u001b[0;32m> 10059\u001b[0m mat \u001b[39m=\u001b[39m data\u001b[39m.\u001b[39;49mto_numpy(dtype\u001b[39m=\u001b[39;49m\u001b[39mfloat\u001b[39;49m, na_value\u001b[39m=\u001b[39;49mnp\u001b[39m.\u001b[39;49mnan, copy\u001b[39m=\u001b[39;49m\u001b[39mFalse\u001b[39;49;00m)\n\u001b[1;32m  10061\u001b[0m \u001b[39mif\u001b[39;00m method \u001b[39m==\u001b[39m \u001b[39m\"\u001b[39m\u001b[39mpearson\u001b[39m\u001b[39m\"\u001b[39m:\n\u001b[1;32m  10062\u001b[0m     correl \u001b[39m=\u001b[39m libalgos\u001b[39m.\u001b[39mnancorr(mat, minp\u001b[39m=\u001b[39mmin_periods)\n",
            "File \u001b[0;32m/Library/Frameworks/Python.framework/Versions/3.11/lib/python3.11/site-packages/pandas/core/frame.py:1838\u001b[0m, in \u001b[0;36mDataFrame.to_numpy\u001b[0;34m(self, dtype, copy, na_value)\u001b[0m\n\u001b[1;32m   1836\u001b[0m \u001b[39mif\u001b[39;00m dtype \u001b[39mis\u001b[39;00m \u001b[39mnot\u001b[39;00m \u001b[39mNone\u001b[39;00m:\n\u001b[1;32m   1837\u001b[0m     dtype \u001b[39m=\u001b[39m np\u001b[39m.\u001b[39mdtype(dtype)\n\u001b[0;32m-> 1838\u001b[0m result \u001b[39m=\u001b[39m \u001b[39mself\u001b[39;49m\u001b[39m.\u001b[39;49m_mgr\u001b[39m.\u001b[39;49mas_array(dtype\u001b[39m=\u001b[39;49mdtype, copy\u001b[39m=\u001b[39;49mcopy, na_value\u001b[39m=\u001b[39;49mna_value)\n\u001b[1;32m   1839\u001b[0m \u001b[39mif\u001b[39;00m result\u001b[39m.\u001b[39mdtype \u001b[39mis\u001b[39;00m \u001b[39mnot\u001b[39;00m dtype:\n\u001b[1;32m   1840\u001b[0m     result \u001b[39m=\u001b[39m np\u001b[39m.\u001b[39marray(result, dtype\u001b[39m=\u001b[39mdtype, copy\u001b[39m=\u001b[39m\u001b[39mFalse\u001b[39;00m)\n",
            "File \u001b[0;32m/Library/Frameworks/Python.framework/Versions/3.11/lib/python3.11/site-packages/pandas/core/internals/managers.py:1732\u001b[0m, in \u001b[0;36mBlockManager.as_array\u001b[0;34m(self, dtype, copy, na_value)\u001b[0m\n\u001b[1;32m   1730\u001b[0m         arr\u001b[39m.\u001b[39mflags\u001b[39m.\u001b[39mwriteable \u001b[39m=\u001b[39m \u001b[39mFalse\u001b[39;00m\n\u001b[1;32m   1731\u001b[0m \u001b[39melse\u001b[39;00m:\n\u001b[0;32m-> 1732\u001b[0m     arr \u001b[39m=\u001b[39m \u001b[39mself\u001b[39;49m\u001b[39m.\u001b[39;49m_interleave(dtype\u001b[39m=\u001b[39;49mdtype, na_value\u001b[39m=\u001b[39;49mna_value)\n\u001b[1;32m   1733\u001b[0m     \u001b[39m# The underlying data was copied within _interleave, so no need\u001b[39;00m\n\u001b[1;32m   1734\u001b[0m     \u001b[39m# to further copy if copy=True or setting na_value\u001b[39;00m\n\u001b[1;32m   1736\u001b[0m \u001b[39mif\u001b[39;00m na_value \u001b[39mis\u001b[39;00m \u001b[39mnot\u001b[39;00m lib\u001b[39m.\u001b[39mno_default:\n",
            "File \u001b[0;32m/Library/Frameworks/Python.framework/Versions/3.11/lib/python3.11/site-packages/pandas/core/internals/managers.py:1794\u001b[0m, in \u001b[0;36mBlockManager._interleave\u001b[0;34m(self, dtype, na_value)\u001b[0m\n\u001b[1;32m   1792\u001b[0m     \u001b[39melse\u001b[39;00m:\n\u001b[1;32m   1793\u001b[0m         arr \u001b[39m=\u001b[39m blk\u001b[39m.\u001b[39mget_values(dtype)\n\u001b[0;32m-> 1794\u001b[0m     result[rl\u001b[39m.\u001b[39;49mindexer] \u001b[39m=\u001b[39m arr\n\u001b[1;32m   1795\u001b[0m     itemmask[rl\u001b[39m.\u001b[39mindexer] \u001b[39m=\u001b[39m \u001b[39m1\u001b[39m\n\u001b[1;32m   1797\u001b[0m \u001b[39mif\u001b[39;00m \u001b[39mnot\u001b[39;00m itemmask\u001b[39m.\u001b[39mall():\n",
            "\u001b[0;31mValueError\u001b[0m: could not convert string to float: 'ICU200010'"
          ]
        }
      ],
      "source": [
        "# Calculating correlation\n",
        "pearson_r = train.corr(method='pearson')\n",
        "# Plotting a heatmap\n",
        "sns.set_theme()\n",
        "f, ax = plt.subplots(figsize=(9, 6))\n",
        "\n",
        "sns.heatmap(data=pearson_r, vmin=-1, vmax=1, annot=True, cmap='summer',ax=ax)"
      ]
    },
    {
      "cell_type": "markdown",
      "id": "nNtZBp_frBF8",
      "metadata": {
        "id": "nNtZBp_frBF8"
      },
      "source": [
        "From the correlation heatmap of the train set, there is not many correlations between the features. The correlations are pretty weak, with the correlation coefficients wanders around 0.3 or less. The only exception is the Age-PRG. This indicates that the older the patient, the higher their plasma glucose level is. However, the correlation coefficient of 0.53 is not neccessarily very strong to say that age can predict PRG level accurately. Therefore, all features will be kept."
      ]
    },
    {
      "cell_type": "markdown",
      "id": "vt4SDyWBDuq7",
      "metadata": {
        "id": "vt4SDyWBDuq7"
      },
      "source": [
        "# Hypothesis Testing\n",
        "Hypothesis is simple a supposition or proposed explanation made on the basis of limited evidence as a starting point for further investigation.Hypothesis testing  is a formal procedure for investigating our ideas about the world using stastics. It is most often used by scientists to test specific predictions called hypotheses, that arise from theories.\n",
        "Steps Involved in Hypothesis testing:\n",
        "* State the null and alternate hypothesis\n",
        "* collect data\n",
        "* Perfom statistical test\n",
        "* Decide whether to reject or accept the null hypothesis\n",
        "* Present the findings\n",
        "\n",
        "\n",
        "## Hypothesis 1:\n",
        "\n",
        "* Null Hypothesis (H0): There is no significant relationship between a patient's age and the likelihood of developing sepsis.\n",
        "\n",
        "* Alternative Hypothesis (H1): The age of a patient is a significant factor that influences the likelihood of developing sepsis."
      ]
    },
    {
      "cell_type": "code",
      "execution_count": 18,
      "id": "Bgk8olqDDs8s",
      "metadata": {
        "id": "Bgk8olqDDs8s"
      },
      "outputs": [],
      "source": [
        "# We define Negative and Positive Sepsis Cases\n",
        "Sepsis_Negative = train[train['Sepssis']=='Negative']\n",
        "Sepsis_Positive = train[train['Sepssis']=='Positive']"
      ]
    },
    {
      "cell_type": "code",
      "execution_count": 19,
      "id": "teGiS2fkwcQk",
      "metadata": {
        "id": "teGiS2fkwcQk"
      },
      "outputs": [],
      "source": [
        "t,p = stats.ttest_ind(Sepsis_Negative['Age'],Sepsis_Positive['Age'],equal_var=False)"
      ]
    },
    {
      "cell_type": "code",
      "execution_count": 20,
      "id": "-KjmlafMxQaQ",
      "metadata": {
        "colab": {
          "base_uri": "https://localhost:8080/"
        },
        "id": "-KjmlafMxQaQ",
        "outputId": "6572c748-4143-4ddd-b432-b16ff1a5df04"
      },
      "outputs": [
        {
          "name": "stdout",
          "output_type": "stream",
          "text": [
            "1.085959278630566e-07\n"
          ]
        }
      ],
      "source": [
        "print(p)"
      ]
    },
    {
      "cell_type": "code",
      "execution_count": 21,
      "id": "hLUgXWCex404",
      "metadata": {
        "id": "hLUgXWCex404"
      },
      "outputs": [],
      "source": [
        "# Separate data into two groups: patients with sepsis (Sepsis: Positive) and without sepsis (Sepsis: Negative)\n",
        "sepsis_positive = train[train['Sepssis'] == 'Positive']['Age']\n",
        "sepsis_negative = train[train['Sepssis'] == 'Negative']['Age']"
      ]
    },
    {
      "cell_type": "code",
      "execution_count": 22,
      "id": "ZvrwhjgByCn5",
      "metadata": {
        "id": "ZvrwhjgByCn5"
      },
      "outputs": [],
      "source": [
        "# Set significance level (alpha)\n",
        "alpha = 0.05\n",
        "\n",
        " # Perform a two-sample independent t-test\n",
        "t_stat, p_value = stats.ttest_ind(sepsis_positive, sepsis_negative, equal_var=False)\n"
      ]
    },
    {
      "cell_type": "code",
      "execution_count": 23,
      "id": "IcRFR-29ynM5",
      "metadata": {
        "colab": {
          "base_uri": "https://localhost:8080/"
        },
        "id": "IcRFR-29ynM5",
        "outputId": "42edf1a6-0629-4972-d91a-23a1faa7558d"
      },
      "outputs": [
        {
          "name": "stdout",
          "output_type": "stream",
          "text": [
            "T-statistic: 5.398028835705048\n",
            "P-value: 1.085959278630566e-07\n"
          ]
        }
      ],
      "source": [
        "# Print the t-statistic and p-value\n",
        "print(f\"T-statistic: {t_stat}\")\n",
        "print(f\"P-value: {p_value}\")"
      ]
    },
    {
      "cell_type": "code",
      "execution_count": 24,
      "id": "b7iCV7mTyCqb",
      "metadata": {
        "colab": {
          "base_uri": "https://localhost:8080/"
        },
        "id": "b7iCV7mTyCqb",
        "outputId": "f863ac83-3e5a-40bd-fa2a-7b7af0159483"
      },
      "outputs": [
        {
          "name": "stdout",
          "output_type": "stream",
          "text": [
            "Reject the null hypothesis. There is a significant difference in age between patients with and without sepsis.\n"
          ]
        }
      ],
      "source": [
        "# Compare p-value to alpha to make a decision\n",
        "if p_value < alpha:\n",
        "    print(\"Reject the null hypothesis. There is a significant difference in age between patients with and without sepsis.\")\n",
        "else:\n",
        "    print(\"Fail to reject the null hypothesis. There is no significant difference in age between patients with and without sepsis.\")"
      ]
    },
    {
      "cell_type": "code",
      "execution_count": 25,
      "id": "xchq3e4VzXrP",
      "metadata": {
        "colab": {
          "base_uri": "https://localhost:8080/",
          "height": 476
        },
        "id": "xchq3e4VzXrP",
        "outputId": "42b2404d-9598-4ec3-e273-68efe8b354a8"
      },
      "outputs": [
        {
          "data": {
            "text/plain": [
              "<Axes: xlabel='Age', ylabel='Count'>"
            ]
          },
          "execution_count": 25,
          "metadata": {},
          "output_type": "execute_result"
        },
        {
          "data": {
            "image/png": "[encoded data removed]",
            "text/plain": [
              "<Figure size 640x480 with 1 Axes>"
            ]
          },
          "metadata": {},
          "output_type": "display_data"
        }
      ],
      "source": [
        "sns.histplot(data=train,x='Age',hue='Sepssis',kde=True)"
      ]
    },
    {
      "cell_type": "markdown",
      "id": "0ogk288t2EZm",
      "metadata": {
        "id": "0ogk288t2EZm"
      },
      "source": [
        "## Hypothesis 2\n",
        "* Null Hypothesis (H0): There is no significant difference in the distribution of\n",
        "blood pressure (PR) values between patients who develop sepsis (Sepsis: Positive) and those who do not (Sepsis: Negative).\n",
        "\n",
        "* Alternative Hypothesis (H1): There is a significant difference in the distribution of blood pressure (PR) values between patients who develop sepsis (Sepsis: Positive) and those who do not (Sepsis: Negative)."
      ]
    },
    {
      "cell_type": "code",
      "execution_count": 26,
      "id": "IOI_m74L2i6x",
      "metadata": {
        "id": "IOI_m74L2i6x"
      },
      "outputs": [],
      "source": [
        "# Separate data into two groups: patients with sepsis (Sepsis: Positive) and without sepsis (Sepsis: Negative)\n",
        "sepsis_positive = train[train['Sepssis'] == 'Positive']['PR']\n",
        "sepsis_negative = train[train['Sepssis'] == 'Negative']['PR']"
      ]
    },
    {
      "cell_type": "code",
      "execution_count": 27,
      "id": "VEMLgf3C2i94",
      "metadata": {
        "id": "VEMLgf3C2i94"
      },
      "outputs": [],
      "source": [
        "# Perform the Mann-Whitney U test (non-parametric test)\n",
        "statistic, p_value = stats.mannwhitneyu(sepsis_positive, sepsis_negative, alternative='two-sided')\n"
      ]
    },
    {
      "cell_type": "code",
      "execution_count": 28,
      "id": "QdsvHjnl2jBU",
      "metadata": {
        "colab": {
          "base_uri": "https://localhost:8080/"
        },
        "id": "QdsvHjnl2jBU",
        "outputId": "15aa18f8-466c-4f1d-9ed8-697ef06ae922"
      },
      "outputs": [
        {
          "name": "stdout",
          "output_type": "stream",
          "text": [
            "Test Statistic (Mann-Whitney U): 47673.5\n",
            "P-value: 0.0005014049708706393\n"
          ]
        }
      ],
      "source": [
        "# Set significance level (alpha)\n",
        "alpha = 0.05\n",
        "\n",
        "# Print the test statistic and p-value\n",
        "print(f\"Test Statistic (Mann-Whitney U): {statistic}\")\n",
        "print(f\"P-value: {p_value}\")"
      ]
    },
    {
      "cell_type": "code",
      "execution_count": 29,
      "id": "d86lsyNE2jGq",
      "metadata": {
        "colab": {
          "base_uri": "https://localhost:8080/"
        },
        "id": "d86lsyNE2jGq",
        "outputId": "362a80f9-2f68-42e2-814a-a11c9359c909"
      },
      "outputs": [
        {
          "name": "stdout",
          "output_type": "stream",
          "text": [
            "Reject the null hypothesis. There is a significant difference in PR values between patients with and without sepsis.\n"
          ]
        }
      ],
      "source": [
        "# Compare p-value to alpha to make a decision\n",
        "if p_value < alpha:\n",
        "    print(\"Reject the null hypothesis. There is a significant difference in PR values between patients with and without sepsis.\")\n",
        "else:\n",
        "    print(\"Fail to reject the null hypothesis. There is no significant difference in PR values between patients with and without sepsis.\")\n"
      ]
    },
    {
      "cell_type": "markdown",
      "id": "hgx8gjXW3E-F",
      "metadata": {
        "id": "hgx8gjXW3E-F"
      },
      "source": [
        "# Data Preprocessing\n"
      ]
    },
    {
      "cell_type": "markdown",
      "id": "jMqbjvkXRl11",
      "metadata": {
        "id": "jMqbjvkXRl11"
      },
      "source": [
        "### Rename the Sepssis, M11 and PR Columns"
      ]
    },
    {
      "cell_type": "code",
      "execution_count": 30,
      "id": "Klp6nGGr3CYo",
      "metadata": {
        "colab": {
          "base_uri": "https://localhost:8080/",
          "height": 206
        },
        "id": "Klp6nGGr3CYo",
        "outputId": "8bc44ee2-7531-4fc5-cd13-f4e25c28adeb"
      },
      "outputs": [
        {
          "data": {
            "text/html": [
              "<div>\n",
              "<style scoped>\n",
              "    .dataframe tbody tr th:only-of-type {\n",
              "        vertical-align: middle;\n",
              "    }\n",
              "\n",
              "    .dataframe tbody tr th {\n",
              "        vertical-align: top;\n",
              "    }\n",
              "\n",
              "    .dataframe thead th {\n",
              "        text-align: right;\n",
              "    }\n",
              "</style>\n",
              "<table border=\"1\" class=\"dataframe\">\n",
              "  <thead>\n",
              "    <tr style=\"text-align: right;\">\n",
              "      <th></th>\n",
              "      <th>ID</th>\n",
              "      <th>PRG</th>\n",
              "      <th>PL</th>\n",
              "      <th>BP</th>\n",
              "      <th>SK</th>\n",
              "      <th>TS</th>\n",
              "      <th>BMI</th>\n",
              "      <th>BD2</th>\n",
              "      <th>Age</th>\n",
              "      <th>Insurance</th>\n",
              "      <th>Sepsis</th>\n",
              "    </tr>\n",
              "  </thead>\n",
              "  <tbody>\n",
              "    <tr>\n",
              "      <th>0</th>\n",
              "      <td>ICU200010</td>\n",
              "      <td>6</td>\n",
              "      <td>148</td>\n",
              "      <td>72</td>\n",
              "      <td>35</td>\n",
              "      <td>0</td>\n",
              "      <td>33.6</td>\n",
              "      <td>0.627</td>\n",
              "      <td>50</td>\n",
              "      <td>0</td>\n",
              "      <td>Positive</td>\n",
              "    </tr>\n",
              "    <tr>\n",
              "      <th>1</th>\n",
              "      <td>ICU200011</td>\n",
              "      <td>1</td>\n",
              "      <td>85</td>\n",
              "      <td>66</td>\n",
              "      <td>29</td>\n",
              "      <td>0</td>\n",
              "      <td>26.6</td>\n",
              "      <td>0.351</td>\n",
              "      <td>31</td>\n",
              "      <td>0</td>\n",
              "      <td>Negative</td>\n",
              "    </tr>\n",
              "    <tr>\n",
              "      <th>2</th>\n",
              "      <td>ICU200012</td>\n",
              "      <td>8</td>\n",
              "      <td>183</td>\n",
              "      <td>64</td>\n",
              "      <td>0</td>\n",
              "      <td>0</td>\n",
              "      <td>23.3</td>\n",
              "      <td>0.672</td>\n",
              "      <td>32</td>\n",
              "      <td>1</td>\n",
              "      <td>Positive</td>\n",
              "    </tr>\n",
              "    <tr>\n",
              "      <th>3</th>\n",
              "      <td>ICU200013</td>\n",
              "      <td>1</td>\n",
              "      <td>89</td>\n",
              "      <td>66</td>\n",
              "      <td>23</td>\n",
              "      <td>94</td>\n",
              "      <td>28.1</td>\n",
              "      <td>0.167</td>\n",
              "      <td>21</td>\n",
              "      <td>1</td>\n",
              "      <td>Negative</td>\n",
              "    </tr>\n",
              "    <tr>\n",
              "      <th>4</th>\n",
              "      <td>ICU200014</td>\n",
              "      <td>0</td>\n",
              "      <td>137</td>\n",
              "      <td>40</td>\n",
              "      <td>35</td>\n",
              "      <td>168</td>\n",
              "      <td>43.1</td>\n",
              "      <td>2.288</td>\n",
              "      <td>33</td>\n",
              "      <td>1</td>\n",
              "      <td>Positive</td>\n",
              "    </tr>\n",
              "  </tbody>\n",
              "</table>\n",
              "</div>"
            ],
            "text/plain": [
              "          ID  PRG   PL  BP  SK   TS   BMI    BD2  Age  Insurance    Sepsis\n",
              "0  ICU200010    6  148  72  35    0  33.6  0.627   50          0  Positive\n",
              "1  ICU200011    1   85  66  29    0  26.6  0.351   31          0  Negative\n",
              "2  ICU200012    8  183  64   0    0  23.3  0.672   32          1  Positive\n",
              "3  ICU200013    1   89  66  23   94  28.1  0.167   21          1  Negative\n",
              "4  ICU200014    0  137  40  35  168  43.1  2.288   33          1  Positive"
            ]
          },
          "execution_count": 30,
          "metadata": {},
          "output_type": "execute_result"
        }
      ],
      "source": [
        "# Renaming the seppsis, BMI and Blood pressure columns\n",
        "train = train.rename(columns={'Sepssis': 'Sepsis'})\n",
        "train = train.rename(columns={'M11': 'BMI'})\n",
        "train = train.rename(columns={'PR': 'BP'})\n",
        "\n",
        "# Test dataset\n",
        "test = test.rename(columns={'M11': 'BMI'})\n",
        "test = test.rename(columns={'PR': 'BP'})\n",
        "\n",
        "train.head()"
      ]
    },
    {
      "cell_type": "code",
      "execution_count": 31,
      "id": "PwTs0d6plzAu",
      "metadata": {
        "colab": {
          "base_uri": "https://localhost:8080/",
          "height": 206
        },
        "id": "PwTs0d6plzAu",
        "outputId": "5dc82e48-f595-4c7b-f9e1-42915e8c60db"
      },
      "outputs": [
        {
          "data": {
            "text/html": [
              "<div>\n",
              "<style scoped>\n",
              "    .dataframe tbody tr th:only-of-type {\n",
              "        vertical-align: middle;\n",
              "    }\n",
              "\n",
              "    .dataframe tbody tr th {\n",
              "        vertical-align: top;\n",
              "    }\n",
              "\n",
              "    .dataframe thead th {\n",
              "        text-align: right;\n",
              "    }\n",
              "</style>\n",
              "<table border=\"1\" class=\"dataframe\">\n",
              "  <thead>\n",
              "    <tr style=\"text-align: right;\">\n",
              "      <th></th>\n",
              "      <th>ID</th>\n",
              "      <th>PRG</th>\n",
              "      <th>PL</th>\n",
              "      <th>BP</th>\n",
              "      <th>SK</th>\n",
              "      <th>TS</th>\n",
              "      <th>BMI</th>\n",
              "      <th>BD2</th>\n",
              "      <th>Age</th>\n",
              "      <th>Insurance</th>\n",
              "    </tr>\n",
              "  </thead>\n",
              "  <tbody>\n",
              "    <tr>\n",
              "      <th>0</th>\n",
              "      <td>ICU200609</td>\n",
              "      <td>1</td>\n",
              "      <td>109</td>\n",
              "      <td>38</td>\n",
              "      <td>18</td>\n",
              "      <td>120</td>\n",
              "      <td>23.1</td>\n",
              "      <td>0.407</td>\n",
              "      <td>26</td>\n",
              "      <td>1</td>\n",
              "    </tr>\n",
              "    <tr>\n",
              "      <th>1</th>\n",
              "      <td>ICU200610</td>\n",
              "      <td>1</td>\n",
              "      <td>108</td>\n",
              "      <td>88</td>\n",
              "      <td>19</td>\n",
              "      <td>0</td>\n",
              "      <td>27.1</td>\n",
              "      <td>0.400</td>\n",
              "      <td>24</td>\n",
              "      <td>1</td>\n",
              "    </tr>\n",
              "    <tr>\n",
              "      <th>2</th>\n",
              "      <td>ICU200611</td>\n",
              "      <td>6</td>\n",
              "      <td>96</td>\n",
              "      <td>0</td>\n",
              "      <td>0</td>\n",
              "      <td>0</td>\n",
              "      <td>23.7</td>\n",
              "      <td>0.190</td>\n",
              "      <td>28</td>\n",
              "      <td>1</td>\n",
              "    </tr>\n",
              "    <tr>\n",
              "      <th>3</th>\n",
              "      <td>ICU200612</td>\n",
              "      <td>1</td>\n",
              "      <td>124</td>\n",
              "      <td>74</td>\n",
              "      <td>36</td>\n",
              "      <td>0</td>\n",
              "      <td>27.8</td>\n",
              "      <td>0.100</td>\n",
              "      <td>30</td>\n",
              "      <td>1</td>\n",
              "    </tr>\n",
              "    <tr>\n",
              "      <th>4</th>\n",
              "      <td>ICU200613</td>\n",
              "      <td>7</td>\n",
              "      <td>150</td>\n",
              "      <td>78</td>\n",
              "      <td>29</td>\n",
              "      <td>126</td>\n",
              "      <td>35.2</td>\n",
              "      <td>0.692</td>\n",
              "      <td>54</td>\n",
              "      <td>0</td>\n",
              "    </tr>\n",
              "  </tbody>\n",
              "</table>\n",
              "</div>"
            ],
            "text/plain": [
              "          ID  PRG   PL  BP  SK   TS   BMI    BD2  Age  Insurance\n",
              "0  ICU200609    1  109  38  18  120  23.1  0.407   26          1\n",
              "1  ICU200610    1  108  88  19    0  27.1  0.400   24          1\n",
              "2  ICU200611    6   96   0   0    0  23.7  0.190   28          1\n",
              "3  ICU200612    1  124  74  36    0  27.8  0.100   30          1\n",
              "4  ICU200613    7  150  78  29  126  35.2  0.692   54          0"
            ]
          },
          "execution_count": 31,
          "metadata": {},
          "output_type": "execute_result"
        }
      ],
      "source": [
        "test.head()"
      ]
    },
    {
      "cell_type": "markdown",
      "id": "uwF0PH3It0B4",
      "metadata": {
        "id": "uwF0PH3It0B4"
      },
      "source": [
        "### Checking for Duplicates"
      ]
    },
    {
      "cell_type": "code",
      "execution_count": 32,
      "id": "cSGbFxq4RvBC",
      "metadata": {
        "colab": {
          "base_uri": "https://localhost:8080/"
        },
        "id": "cSGbFxq4RvBC",
        "outputId": "39b1766d-675f-484d-c664-f311e01388f0"
      },
      "outputs": [
        {
          "data": {
            "text/plain": [
              "0"
            ]
          },
          "execution_count": 32,
          "metadata": {},
          "output_type": "execute_result"
        }
      ],
      "source": [
        "#Checking for duplicates in the train dataset\n",
        "train.duplicated().sum()"
      ]
    },
    {
      "cell_type": "code",
      "execution_count": 33,
      "id": "htwuL66MTYt8",
      "metadata": {
        "colab": {
          "base_uri": "https://localhost:8080/"
        },
        "id": "htwuL66MTYt8",
        "outputId": "b5a77b37-ebbb-46e1-9449-1cdf8650df64"
      },
      "outputs": [
        {
          "name": "stdout",
          "output_type": "stream",
          "text": [
            "The categories in the Spesis column are: \n",
            "Sepsis\n",
            "Negative    391\n",
            "Positive    208\n",
            "Name: count, dtype: int64\n",
            "The categories in the Insurance column are: \n",
            "Insurance\n",
            "1    411\n",
            "0    188\n",
            "Name: count, dtype: int64\n",
            "The categories in the PRG column are: \n",
            "PRG\n",
            "1     100\n",
            "0      93\n",
            "2      76\n",
            "3      59\n",
            "4      54\n",
            "5      49\n",
            "7      37\n",
            "6      37\n",
            "8      32\n",
            "9      20\n",
            "10     16\n",
            "12      8\n",
            "11      7\n",
            "13      7\n",
            "14      2\n",
            "15      1\n",
            "17      1\n",
            "Name: count, dtype: int64\n"
          ]
        }
      ],
      "source": [
        "#The number each of the categories occurs\n",
        "print('The categories in the Spesis column are: ')\n",
        "print(train['Sepsis'].value_counts())\n",
        "#The number each of the Insurance Column\n",
        "print('The categories in the Insurance column are: ')\n",
        "print(train['Insurance'].value_counts())\n",
        "#The number each of the categories occurs\n",
        "print('The categories in the PRG column are: ')\n",
        "print(train['PRG'].value_counts())"
      ]
    },
    {
      "cell_type": "markdown",
      "id": "rPK2kVphYZo0",
      "metadata": {
        "id": "rPK2kVphYZo0"
      },
      "source": [
        "### Dropping the Unneccessary Columns"
      ]
    },
    {
      "cell_type": "code",
      "execution_count": 34,
      "id": "vCXLa1joYejy",
      "metadata": {
        "id": "vCXLa1joYejy"
      },
      "outputs": [],
      "source": [
        "train.drop(['ID','Insurance'],axis=1,inplace=True)\n",
        "test.drop(['ID','Insurance'],axis=1,inplace=True)"
      ]
    },
    {
      "cell_type": "code",
      "execution_count": 35,
      "id": "6I2LyyurYhtx",
      "metadata": {
        "colab": {
          "base_uri": "https://localhost:8080/",
          "height": 206
        },
        "id": "6I2LyyurYhtx",
        "outputId": "c6adc198-39b1-4459-bfbd-4d42c0fa9f55"
      },
      "outputs": [
        {
          "data": {
            "text/html": [
              "<div>\n",
              "<style scoped>\n",
              "    .dataframe tbody tr th:only-of-type {\n",
              "        vertical-align: middle;\n",
              "    }\n",
              "\n",
              "    .dataframe tbody tr th {\n",
              "        vertical-align: top;\n",
              "    }\n",
              "\n",
              "    .dataframe thead th {\n",
              "        text-align: right;\n",
              "    }\n",
              "</style>\n",
              "<table border=\"1\" class=\"dataframe\">\n",
              "  <thead>\n",
              "    <tr style=\"text-align: right;\">\n",
              "      <th></th>\n",
              "      <th>PRG</th>\n",
              "      <th>PL</th>\n",
              "      <th>BP</th>\n",
              "      <th>SK</th>\n",
              "      <th>TS</th>\n",
              "      <th>BMI</th>\n",
              "      <th>BD2</th>\n",
              "      <th>Age</th>\n",
              "    </tr>\n",
              "  </thead>\n",
              "  <tbody>\n",
              "    <tr>\n",
              "      <th>0</th>\n",
              "      <td>1</td>\n",
              "      <td>109</td>\n",
              "      <td>38</td>\n",
              "      <td>18</td>\n",
              "      <td>120</td>\n",
              "      <td>23.1</td>\n",
              "      <td>0.407</td>\n",
              "      <td>26</td>\n",
              "    </tr>\n",
              "    <tr>\n",
              "      <th>1</th>\n",
              "      <td>1</td>\n",
              "      <td>108</td>\n",
              "      <td>88</td>\n",
              "      <td>19</td>\n",
              "      <td>0</td>\n",
              "      <td>27.1</td>\n",
              "      <td>0.400</td>\n",
              "      <td>24</td>\n",
              "    </tr>\n",
              "    <tr>\n",
              "      <th>2</th>\n",
              "      <td>6</td>\n",
              "      <td>96</td>\n",
              "      <td>0</td>\n",
              "      <td>0</td>\n",
              "      <td>0</td>\n",
              "      <td>23.7</td>\n",
              "      <td>0.190</td>\n",
              "      <td>28</td>\n",
              "    </tr>\n",
              "    <tr>\n",
              "      <th>3</th>\n",
              "      <td>1</td>\n",
              "      <td>124</td>\n",
              "      <td>74</td>\n",
              "      <td>36</td>\n",
              "      <td>0</td>\n",
              "      <td>27.8</td>\n",
              "      <td>0.100</td>\n",
              "      <td>30</td>\n",
              "    </tr>\n",
              "    <tr>\n",
              "      <th>4</th>\n",
              "      <td>7</td>\n",
              "      <td>150</td>\n",
              "      <td>78</td>\n",
              "      <td>29</td>\n",
              "      <td>126</td>\n",
              "      <td>35.2</td>\n",
              "      <td>0.692</td>\n",
              "      <td>54</td>\n",
              "    </tr>\n",
              "  </tbody>\n",
              "</table>\n",
              "</div>"
            ],
            "text/plain": [
              "   PRG   PL  BP  SK   TS   BMI    BD2  Age\n",
              "0    1  109  38  18  120  23.1  0.407   26\n",
              "1    1  108  88  19    0  27.1  0.400   24\n",
              "2    6   96   0   0    0  23.7  0.190   28\n",
              "3    1  124  74  36    0  27.8  0.100   30\n",
              "4    7  150  78  29  126  35.2  0.692   54"
            ]
          },
          "execution_count": 35,
          "metadata": {},
          "output_type": "execute_result"
        }
      ],
      "source": [
        "test.head()"
      ]
    },
    {
      "cell_type": "markdown",
      "id": "wXxG3I90ZDYB",
      "metadata": {
        "id": "wXxG3I90ZDYB"
      },
      "source": [
        "## Feature Encoding"
      ]
    },
    {
      "cell_type": "code",
      "execution_count": 36,
      "id": "bglNtyvBY_4i",
      "metadata": {
        "id": "bglNtyvBY_4i"
      },
      "outputs": [],
      "source": [
        "# Initializing class Label Encoder\n",
        "label_encoder = LabelEncoder()\n",
        "# Encoding the target column\n",
        "train['Sepsis'] = label_encoder.fit_transform(train['Sepsis'])"
      ]
    },
    {
      "cell_type": "markdown",
      "id": "Uz7uQdFoZx7Z",
      "metadata": {
        "id": "Uz7uQdFoZx7Z"
      },
      "source": [
        "## Handling Imbalanced Data using SMOTE\n",
        "SMOTE (Synthetic Minority Over-sampling Technique) is a popular technique used to address class imbalance in machine learning. The basic idea behind SMOTE is to create new minority class samples by randomly selecting one or more of the k-nearest neighbors of each minority class sample, and using them to create new synthetic samples (Nababan et al., 2023)."
      ]
    },
    {
      "cell_type": "code",
      "execution_count": 37,
      "id": "01Q4yMqMZigF",
      "metadata": {
        "id": "01Q4yMqMZigF"
      },
      "outputs": [],
      "source": [
        "# Splitting the dataset into features (X) and target variable (y)\n",
        "X = train.drop('Sepsis', axis=1)\n",
        "y = train['Sepsis']"
      ]
    },
    {
      "cell_type": "code",
      "execution_count": 38,
      "id": "Lil8BDu3aUNt",
      "metadata": {
        "colab": {
          "base_uri": "https://localhost:8080/"
        },
        "id": "Lil8BDu3aUNt",
        "outputId": "3ed9c5f0-9ec2-43d1-902a-6d90a289999b"
      },
      "outputs": [
        {
          "data": {
            "text/plain": [
              "Sepsis\n",
              "1    391\n",
              "0    391\n",
              "Name: count, dtype: int64"
            ]
          },
          "execution_count": 38,
          "metadata": {},
          "output_type": "execute_result"
        }
      ],
      "source": [
        "#Cloning the class SMOTE and specifying the sampling strategy\n",
        "smote = SMOTE(sampling_strategy='minority')\n",
        "X_resampled, y_resampled= smote.fit_resample(X, y)\n",
        "\n",
        "#\n",
        "y_resampled.value_counts()\n",
        "\n"
      ]
    },
    {
      "cell_type": "code",
      "execution_count": 39,
      "id": "J6zRrnTEaZwZ",
      "metadata": {
        "colab": {
          "base_uri": "https://localhost:8080/"
        },
        "id": "J6zRrnTEaZwZ",
        "outputId": "72969db7-f36f-4b4d-f7a8-e6b79ce61495"
      },
      "outputs": [
        {
          "name": "stdout",
          "output_type": "stream",
          "text": [
            "(782, 8)\n",
            "(782,)\n"
          ]
        }
      ],
      "source": [
        "print(X_resampled.shape)\n",
        "print(y_resampled.shape)"
      ]
    },
    {
      "cell_type": "markdown",
      "id": "Igx9dKiQcrU5",
      "metadata": {
        "id": "Igx9dKiQcrU5"
      },
      "source": [
        "## Data Splitting"
      ]
    },
    {
      "cell_type": "code",
      "execution_count": 40,
      "id": "87COWljZgXnn",
      "metadata": {
        "id": "87COWljZgXnn"
      },
      "outputs": [],
      "source": [
        "# Split the data into training and evaluation sets\n",
        "X_train, X_eval, y_train, y_eval = train_test_split(X_resampled, y_resampled, test_size=0.2, random_state=42,stratify=y_resampled)"
      ]
    },
    {
      "cell_type": "code",
      "execution_count": 41,
      "id": "1iCA--sngmQm",
      "metadata": {
        "colab": {
          "base_uri": "https://localhost:8080/"
        },
        "id": "1iCA--sngmQm",
        "outputId": "fca9ac85-e451-46be-e7b9-ee6cd3c2c8c1"
      },
      "outputs": [
        {
          "data": {
            "text/plain": [
              "((625, 8), (157, 8), (625,), (157,))"
            ]
          },
          "execution_count": 41,
          "metadata": {},
          "output_type": "execute_result"
        }
      ],
      "source": [
        "X_train.shape,X_eval.shape,y_train.shape,y_eval.shape"
      ]
    },
    {
      "cell_type": "markdown",
      "id": "ZntgxOLCgvYG",
      "metadata": {
        "id": "ZntgxOLCgvYG"
      },
      "source": [
        "## Scaling"
      ]
    },
    {
      "cell_type": "code",
      "execution_count": 42,
      "id": "Eibjzch0gq9H",
      "metadata": {
        "id": "Eibjzch0gq9H"
      },
      "outputs": [],
      "source": [
        "\n",
        "#Cloning the standardscaler class\n",
        "scaler =StandardScaler().set_output(transform=\"pandas\")\n",
        "\n",
        "#Fitting and transforming the selected columns in the training data set\n",
        "X_train_scaled=scaler.fit_transform(X_train)\n",
        "\n",
        "#Transforming the selected columns  in the evaluation dataset\n",
        "X_eval_scaled= scaler.transform(X_eval)"
      ]
    },
    {
      "cell_type": "code",
      "execution_count": 43,
      "id": "nmjoDaIxgrLd",
      "metadata": {
        "colab": {
          "base_uri": "https://localhost:8080/",
          "height": 206
        },
        "id": "nmjoDaIxgrLd",
        "outputId": "57f8bea1-3a8d-47ff-ae51-2017de89582f"
      },
      "outputs": [
        {
          "data": {
            "text/html": [
              "<div>\n",
              "<style scoped>\n",
              "    .dataframe tbody tr th:only-of-type {\n",
              "        vertical-align: middle;\n",
              "    }\n",
              "\n",
              "    .dataframe tbody tr th {\n",
              "        vertical-align: top;\n",
              "    }\n",
              "\n",
              "    .dataframe thead th {\n",
              "        text-align: right;\n",
              "    }\n",
              "</style>\n",
              "<table border=\"1\" class=\"dataframe\">\n",
              "  <thead>\n",
              "    <tr style=\"text-align: right;\">\n",
              "      <th></th>\n",
              "      <th>PRG</th>\n",
              "      <th>PL</th>\n",
              "      <th>BP</th>\n",
              "      <th>SK</th>\n",
              "      <th>TS</th>\n",
              "      <th>BMI</th>\n",
              "      <th>BD2</th>\n",
              "      <th>Age</th>\n",
              "    </tr>\n",
              "  </thead>\n",
              "  <tbody>\n",
              "    <tr>\n",
              "      <th>547</th>\n",
              "      <td>-0.014419</td>\n",
              "      <td>0.170752</td>\n",
              "      <td>-0.050819</td>\n",
              "      <td>0.023030</td>\n",
              "      <td>0.753430</td>\n",
              "      <td>0.054272</td>\n",
              "      <td>-1.031677</td>\n",
              "      <td>-0.524478</td>\n",
              "    </tr>\n",
              "    <tr>\n",
              "      <th>474</th>\n",
              "      <td>-0.014419</td>\n",
              "      <td>-0.347011</td>\n",
              "      <td>-0.261162</td>\n",
              "      <td>-1.296928</td>\n",
              "      <td>-0.697815</td>\n",
              "      <td>-0.505738</td>\n",
              "      <td>-1.130687</td>\n",
              "      <td>-0.883612</td>\n",
              "    </tr>\n",
              "    <tr>\n",
              "      <th>707</th>\n",
              "      <td>2.088291</td>\n",
              "      <td>1.449933</td>\n",
              "      <td>0.159524</td>\n",
              "      <td>1.280133</td>\n",
              "      <td>0.386248</td>\n",
              "      <td>0.410941</td>\n",
              "      <td>0.703182</td>\n",
              "      <td>0.552922</td>\n",
              "    </tr>\n",
              "    <tr>\n",
              "      <th>293</th>\n",
              "      <td>-0.915580</td>\n",
              "      <td>0.079382</td>\n",
              "      <td>-1.102534</td>\n",
              "      <td>1.531553</td>\n",
              "      <td>0.998219</td>\n",
              "      <td>1.040956</td>\n",
              "      <td>0.287487</td>\n",
              "      <td>-0.883612</td>\n",
              "    </tr>\n",
              "    <tr>\n",
              "      <th>729</th>\n",
              "      <td>1.187130</td>\n",
              "      <td>0.779886</td>\n",
              "      <td>0.790553</td>\n",
              "      <td>1.531553</td>\n",
              "      <td>1.286719</td>\n",
              "      <td>0.734402</td>\n",
              "      <td>0.828259</td>\n",
              "      <td>0.822272</td>\n",
              "    </tr>\n",
              "  </tbody>\n",
              "</table>\n",
              "</div>"
            ],
            "text/plain": [
              "          PRG        PL        BP        SK        TS       BMI       BD2   \n",
              "547 -0.014419  0.170752 -0.050819  0.023030  0.753430  0.054272 -1.031677  \\\n",
              "474 -0.014419 -0.347011 -0.261162 -1.296928 -0.697815 -0.505738 -1.130687   \n",
              "707  2.088291  1.449933  0.159524  1.280133  0.386248  0.410941  0.703182   \n",
              "293 -0.915580  0.079382 -1.102534  1.531553  0.998219  1.040956  0.287487   \n",
              "729  1.187130  0.779886  0.790553  1.531553  1.286719  0.734402  0.828259   \n",
              "\n",
              "          Age  \n",
              "547 -0.524478  \n",
              "474 -0.883612  \n",
              "707  0.552922  \n",
              "293 -0.883612  \n",
              "729  0.822272  "
            ]
          },
          "execution_count": 43,
          "metadata": {},
          "output_type": "execute_result"
        }
      ],
      "source": [
        "#Checking on the scaled training set\n",
        "X_train_scaled.head()"
      ]
    },
    {
      "cell_type": "code",
      "execution_count": 44,
      "id": "RQUXP5UUiwbU",
      "metadata": {
        "colab": {
          "base_uri": "https://localhost:8080/",
          "height": 206
        },
        "id": "RQUXP5UUiwbU",
        "outputId": "45fb4ddf-c591-4b4a-ea74-8c2543c49c9b"
      },
      "outputs": [
        {
          "data": {
            "text/html": [
              "<div>\n",
              "<style scoped>\n",
              "    .dataframe tbody tr th:only-of-type {\n",
              "        vertical-align: middle;\n",
              "    }\n",
              "\n",
              "    .dataframe tbody tr th {\n",
              "        vertical-align: top;\n",
              "    }\n",
              "\n",
              "    .dataframe thead th {\n",
              "        text-align: right;\n",
              "    }\n",
              "</style>\n",
              "<table border=\"1\" class=\"dataframe\">\n",
              "  <thead>\n",
              "    <tr style=\"text-align: right;\">\n",
              "      <th></th>\n",
              "      <th>PRG</th>\n",
              "      <th>PL</th>\n",
              "      <th>BP</th>\n",
              "      <th>SK</th>\n",
              "      <th>TS</th>\n",
              "      <th>BMI</th>\n",
              "      <th>BD2</th>\n",
              "      <th>Age</th>\n",
              "    </tr>\n",
              "  </thead>\n",
              "  <tbody>\n",
              "    <tr>\n",
              "      <th>378</th>\n",
              "      <td>-0.014419</td>\n",
              "      <td>0.932169</td>\n",
              "      <td>0.317281</td>\n",
              "      <td>-1.296928</td>\n",
              "      <td>-0.697815</td>\n",
              "      <td>2.080974</td>\n",
              "      <td>-0.804536</td>\n",
              "      <td>-0.165345</td>\n",
              "    </tr>\n",
              "    <tr>\n",
              "      <th>309</th>\n",
              "      <td>-0.615193</td>\n",
              "      <td>-0.042444</td>\n",
              "      <td>-0.050819</td>\n",
              "      <td>0.463016</td>\n",
              "      <td>1.094386</td>\n",
              "      <td>0.027605</td>\n",
              "      <td>1.050447</td>\n",
              "      <td>-0.344912</td>\n",
              "    </tr>\n",
              "    <tr>\n",
              "      <th>668</th>\n",
              "      <td>-0.314806</td>\n",
              "      <td>0.993083</td>\n",
              "      <td>0.422453</td>\n",
              "      <td>1.028712</td>\n",
              "      <td>1.374144</td>\n",
              "      <td>0.065954</td>\n",
              "      <td>0.710276</td>\n",
              "      <td>-0.524478</td>\n",
              "    </tr>\n",
              "    <tr>\n",
              "      <th>112</th>\n",
              "      <td>-0.915580</td>\n",
              "      <td>-1.108428</td>\n",
              "      <td>0.369867</td>\n",
              "      <td>0.840147</td>\n",
              "      <td>-0.374344</td>\n",
              "      <td>-0.199066</td>\n",
              "      <td>-0.938491</td>\n",
              "      <td>-0.973395</td>\n",
              "    </tr>\n",
              "    <tr>\n",
              "      <th>583</th>\n",
              "      <td>1.187130</td>\n",
              "      <td>-0.773405</td>\n",
              "      <td>0.369867</td>\n",
              "      <td>-1.296928</td>\n",
              "      <td>-0.697815</td>\n",
              "      <td>0.800952</td>\n",
              "      <td>-0.944315</td>\n",
              "      <td>0.732489</td>\n",
              "    </tr>\n",
              "  </tbody>\n",
              "</table>\n",
              "</div>"
            ],
            "text/plain": [
              "          PRG        PL        BP        SK        TS       BMI       BD2   \n",
              "378 -0.014419  0.932169  0.317281 -1.296928 -0.697815  2.080974 -0.804536  \\\n",
              "309 -0.615193 -0.042444 -0.050819  0.463016  1.094386  0.027605  1.050447   \n",
              "668 -0.314806  0.993083  0.422453  1.028712  1.374144  0.065954  0.710276   \n",
              "112 -0.915580 -1.108428  0.369867  0.840147 -0.374344 -0.199066 -0.938491   \n",
              "583  1.187130 -0.773405  0.369867 -1.296928 -0.697815  0.800952 -0.944315   \n",
              "\n",
              "          Age  \n",
              "378 -0.165345  \n",
              "309 -0.344912  \n",
              "668 -0.524478  \n",
              "112 -0.973395  \n",
              "583  0.732489  "
            ]
          },
          "execution_count": 44,
          "metadata": {},
          "output_type": "execute_result"
        }
      ],
      "source": [
        "#To check on the scaled evaluation on the predictor set\n",
        "X_eval_scaled.head()"
      ]
    },
    {
      "cell_type": "markdown",
      "id": "HGqitfXqi4OG",
      "metadata": {
        "id": "HGqitfXqi4OG"
      },
      "source": [
        "# Modelling"
      ]
    },
    {
      "cell_type": "code",
      "execution_count": 45,
      "id": "5bjN-oI0i6T9",
      "metadata": {
        "colab": {
          "base_uri": "https://localhost:8080/"
        },
        "id": "5bjN-oI0i6T9",
        "outputId": "c72ae2c9-27b2-4ee5-e72b-8103c210d37e"
      },
      "outputs": [
        {
          "name": "stdout",
          "output_type": "stream",
          "text": [
            "[LightGBM] [Info] Number of positive: 313, number of negative: 312\n",
            "[LightGBM] [Warning] Auto-choosing col-wise multi-threading, the overhead of testing was 0.000245 seconds.\n",
            "You can set `force_col_wise=true` to remove the overhead.\n",
            "[LightGBM] [Info] Total Bins 762\n",
            "[LightGBM] [Info] Number of data points in the train set: 625, number of used features: 8\n",
            "[LightGBM] [Info] [binary:BoostFromScore]: pavg=0.500800 -> initscore=0.003200\n",
            "[LightGBM] [Info] Start training from score 0.003200\n",
            "[LightGBM] [Warning] No further splits with positive gain, best gain: -inf\n",
            "[LightGBM] [Warning] No further splits with positive gain, best gain: -inf\n",
            "[LightGBM] [Warning] No further splits with positive gain, best gain: -inf\n",
            "[LightGBM] [Warning] No further splits with positive gain, best gain: -inf\n",
            "[LightGBM] [Warning] No further splits with positive gain, best gain: -inf\n",
            "[LightGBM] [Warning] No further splits with positive gain, best gain: -inf\n",
            "[LightGBM] [Warning] No further splits with positive gain, best gain: -inf\n",
            "[LightGBM] [Warning] No further splits with positive gain, best gain: -inf\n",
            "[LightGBM] [Warning] No further splits with positive gain, best gain: -inf\n",
            "[LightGBM] [Warning] No further splits with positive gain, best gain: -inf\n",
            "[LightGBM] [Warning] No further splits with positive gain, best gain: -inf\n",
            "[LightGBM] [Warning] No further splits with positive gain, best gain: -inf\n",
            "[LightGBM] [Warning] No further splits with positive gain, best gain: -inf\n",
            "[LightGBM] [Warning] No further splits with positive gain, best gain: -inf\n",
            "[LightGBM] [Warning] No further splits with positive gain, best gain: -inf\n",
            "[LightGBM] [Warning] No further splits with positive gain, best gain: -inf\n",
            "[LightGBM] [Warning] No further splits with positive gain, best gain: -inf\n",
            "[LightGBM] [Warning] No further splits with positive gain, best gain: -inf\n",
            "[LightGBM] [Warning] No further splits with positive gain, best gain: -inf\n",
            "[LightGBM] [Warning] No further splits with positive gain, best gain: -inf\n",
            "[LightGBM] [Warning] No further splits with positive gain, best gain: -inf\n",
            "[LightGBM] [Warning] No further splits with positive gain, best gain: -inf\n",
            "[LightGBM] [Warning] No further splits with positive gain, best gain: -inf\n",
            "[LightGBM] [Warning] No further splits with positive gain, best gain: -inf\n",
            "[LightGBM] [Warning] No further splits with positive gain, best gain: -inf\n",
            "[LightGBM] [Warning] No further splits with positive gain, best gain: -inf\n",
            "[LightGBM] [Warning] No further splits with positive gain, best gain: -inf\n",
            "[LightGBM] [Warning] No further splits with positive gain, best gain: -inf\n",
            "[LightGBM] [Warning] No further splits with positive gain, best gain: -inf\n",
            "[LightGBM] [Warning] No further splits with positive gain, best gain: -inf\n",
            "[LightGBM] [Warning] No further splits with positive gain, best gain: -inf\n",
            "[LightGBM] [Warning] No further splits with positive gain, best gain: -inf\n",
            "[LightGBM] [Warning] No further splits with positive gain, best gain: -inf\n",
            "[LightGBM] [Warning] No further splits with positive gain, best gain: -inf\n",
            "[LightGBM] [Warning] No further splits with positive gain, best gain: -inf\n",
            "[LightGBM] [Warning] No further splits with positive gain, best gain: -inf\n",
            "[LightGBM] [Warning] No further splits with positive gain, best gain: -inf\n",
            "[LightGBM] [Warning] No further splits with positive gain, best gain: -inf\n",
            "[LightGBM] [Warning] No further splits with positive gain, best gain: -inf\n",
            "[LightGBM] [Warning] No further splits with positive gain, best gain: -inf\n",
            "[LightGBM] [Warning] No further splits with positive gain, best gain: -inf\n",
            "[LightGBM] [Warning] No further splits with positive gain, best gain: -inf\n",
            "[LightGBM] [Warning] No further splits with positive gain, best gain: -inf\n",
            "[LightGBM] [Warning] No further splits with positive gain, best gain: -inf\n",
            "[LightGBM] [Warning] No further splits with positive gain, best gain: -inf\n",
            "[LightGBM] [Warning] No further splits with positive gain, best gain: -inf\n",
            "[LightGBM] [Warning] No further splits with positive gain, best gain: -inf\n",
            "[LightGBM] [Warning] No further splits with positive gain, best gain: -inf\n",
            "[LightGBM] [Warning] No further splits with positive gain, best gain: -inf\n",
            "[LightGBM] [Warning] No further splits with positive gain, best gain: -inf\n",
            "[LightGBM] [Warning] No further splits with positive gain, best gain: -inf\n",
            "[LightGBM] [Warning] No further splits with positive gain, best gain: -inf\n",
            "[LightGBM] [Warning] No further splits with positive gain, best gain: -inf\n",
            "[LightGBM] [Warning] No further splits with positive gain, best gain: -inf\n",
            "[LightGBM] [Warning] No further splits with positive gain, best gain: -inf\n",
            "[LightGBM] [Warning] No further splits with positive gain, best gain: -inf\n",
            "[LightGBM] [Warning] No further splits with positive gain, best gain: -inf\n",
            "[LightGBM] [Warning] No further splits with positive gain, best gain: -inf\n",
            "[LightGBM] [Warning] No further splits with positive gain, best gain: -inf\n",
            "[LightGBM] [Warning] No further splits with positive gain, best gain: -inf\n",
            "[LightGBM] [Warning] No further splits with positive gain, best gain: -inf\n",
            "[LightGBM] [Warning] No further splits with positive gain, best gain: -inf\n",
            "[LightGBM] [Warning] No further splits with positive gain, best gain: -inf\n",
            "[LightGBM] [Warning] No further splits with positive gain, best gain: -inf\n",
            "[LightGBM] [Warning] No further splits with positive gain, best gain: -inf\n",
            "[LightGBM] [Warning] No further splits with positive gain, best gain: -inf\n",
            "[LightGBM] [Warning] No further splits with positive gain, best gain: -inf\n",
            "[LightGBM] [Warning] No further splits with positive gain, best gain: -inf\n",
            "[LightGBM] [Warning] No further splits with positive gain, best gain: -inf\n",
            "[LightGBM] [Warning] No further splits with positive gain, best gain: -inf\n",
            "[LightGBM] [Warning] No further splits with positive gain, best gain: -inf\n",
            "[LightGBM] [Warning] No further splits with positive gain, best gain: -inf\n",
            "[LightGBM] [Warning] No further splits with positive gain, best gain: -inf\n",
            "[LightGBM] [Warning] No further splits with positive gain, best gain: -inf\n",
            "[LightGBM] [Warning] No further splits with positive gain, best gain: -inf\n",
            "[LightGBM] [Warning] No further splits with positive gain, best gain: -inf\n",
            "[LightGBM] [Warning] No further splits with positive gain, best gain: -inf\n",
            "[LightGBM] [Warning] No further splits with positive gain, best gain: -inf\n",
            "[LightGBM] [Warning] No further splits with positive gain, best gain: -inf\n",
            "[LightGBM] [Warning] No further splits with positive gain, best gain: -inf\n",
            "[LightGBM] [Warning] No further splits with positive gain, best gain: -inf\n",
            "[LightGBM] [Warning] No further splits with positive gain, best gain: -inf\n",
            "[LightGBM] [Warning] No further splits with positive gain, best gain: -inf\n",
            "[LightGBM] [Warning] No further splits with positive gain, best gain: -inf\n",
            "[LightGBM] [Warning] No further splits with positive gain, best gain: -inf\n",
            "[LightGBM] [Warning] No further splits with positive gain, best gain: -inf\n",
            "[LightGBM] [Warning] No further splits with positive gain, best gain: -inf\n",
            "[LightGBM] [Warning] No further splits with positive gain, best gain: -inf\n",
            "[LightGBM] [Warning] No further splits with positive gain, best gain: -inf\n",
            "[LightGBM] [Warning] No further splits with positive gain, best gain: -inf\n",
            "[LightGBM] [Warning] No further splits with positive gain, best gain: -inf\n",
            "[LightGBM] [Warning] No further splits with positive gain, best gain: -inf\n",
            "[LightGBM] [Warning] No further splits with positive gain, best gain: -inf\n",
            "[LightGBM] [Warning] No further splits with positive gain, best gain: -inf\n",
            "[LightGBM] [Warning] No further splits with positive gain, best gain: -inf\n",
            "[LightGBM] [Warning] No further splits with positive gain, best gain: -inf\n",
            "[LightGBM] [Warning] No further splits with positive gain, best gain: -inf\n",
            "[LightGBM] [Warning] No further splits with positive gain, best gain: -inf\n",
            "[LightGBM] [Warning] No further splits with positive gain, best gain: -inf\n",
            "[LightGBM] [Warning] No further splits with positive gain, best gain: -inf\n"
          ]
        }
      ],
      "source": [
        "# Defining a list of models that will be evaluated\n",
        "models = [\n",
        "    ('Logistic Regression', LogisticRegression(random_state=42)),\n",
        "    ('Random Forest', RandomForestClassifier(random_state=42)),\n",
        "    ('Gradient Boosting', GradientBoostingClassifier(random_state=42)),\n",
        "    ('Support Vector Machine', SVC(random_state=42)),\n",
        "    ('Gaussian Naive Bayes', GaussianNB()),\n",
        "    ('K-Nearest Neighbors', KNeighborsClassifier()),\n",
        "    ('Decision Tree', DecisionTreeClassifier(random_state=42)),\n",
        "    ('XGBoost', XGBClassifier(random_state=42)),\n",
        "    ('LightGBM', LGBMClassifier(random_state=42)),\n",
        "]\n",
        "\n",
        "# Initializing an empty list to store the model results\n",
        "results_list = []\n",
        "\n",
        "# Iterate over the models and train, evaluate, and store the results\n",
        "for model_name, model in models:\n",
        "    # Fitting the models to the training dataset\n",
        "    model.fit(X_train_scaled, y_train)\n",
        "\n",
        "    # Make predictions using the evaluation dataset\n",
        "    y_pred = model.predict(X_eval_scaled)\n",
        "\n",
        "    # Calculate performance metrics\n",
        "    accuracy = accuracy_score(y_eval, y_pred)\n",
        "    precision = precision_score(y_eval, y_pred)\n",
        "    recall = recall_score(y_eval, y_pred)\n",
        "    f1 = f1_score(y_eval, y_pred)\n",
        "    auc_roc = roc_auc_score(y_eval, y_pred)\n",
        "\n",
        "    # Store the results in a dictionary\n",
        "    model_results = {\n",
        "        'Model': model_name,\n",
        "        'Accuracy': accuracy,\n",
        "        'Precision': precision,\n",
        "        'Recall': recall,\n",
        "        'F1 Score': f1,\n",
        "        'AUC-ROC': auc_roc\n",
        "    }\n",
        "\n",
        "    # Append the model results to the list\n",
        "    results_list.append(model_results)\n",
        "\n",
        "# Convert the list of dictionaries to a DataFrame\n",
        "results_df = pd.DataFrame(results_list)\n"
      ]
    },
    {
      "cell_type": "code",
      "execution_count": 46,
      "id": "vxBC3ICzjYym",
      "metadata": {
        "colab": {
          "base_uri": "https://localhost:8080/",
          "height": 331
        },
        "id": "vxBC3ICzjYym",
        "outputId": "06b73409-7b37-4b38-8b0b-ddb25f7a1ba5"
      },
      "outputs": [
        {
          "data": {
            "text/html": [
              "<div>\n",
              "<style scoped>\n",
              "    .dataframe tbody tr th:only-of-type {\n",
              "        vertical-align: middle;\n",
              "    }\n",
              "\n",
              "    .dataframe tbody tr th {\n",
              "        vertical-align: top;\n",
              "    }\n",
              "\n",
              "    .dataframe thead th {\n",
              "        text-align: right;\n",
              "    }\n",
              "</style>\n",
              "<table border=\"1\" class=\"dataframe\">\n",
              "  <thead>\n",
              "    <tr style=\"text-align: right;\">\n",
              "      <th></th>\n",
              "      <th>Model</th>\n",
              "      <th>Accuracy</th>\n",
              "      <th>Precision</th>\n",
              "      <th>Recall</th>\n",
              "      <th>F1 Score</th>\n",
              "      <th>AUC-ROC</th>\n",
              "    </tr>\n",
              "  </thead>\n",
              "  <tbody>\n",
              "    <tr>\n",
              "      <th>0</th>\n",
              "      <td>Logistic Regression</td>\n",
              "      <td>0.738854</td>\n",
              "      <td>0.734177</td>\n",
              "      <td>0.743590</td>\n",
              "      <td>0.738854</td>\n",
              "      <td>0.738883</td>\n",
              "    </tr>\n",
              "    <tr>\n",
              "      <th>1</th>\n",
              "      <td>Random Forest</td>\n",
              "      <td>0.783439</td>\n",
              "      <td>0.750000</td>\n",
              "      <td>0.846154</td>\n",
              "      <td>0.795181</td>\n",
              "      <td>0.783836</td>\n",
              "    </tr>\n",
              "    <tr>\n",
              "      <th>2</th>\n",
              "      <td>Gradient Boosting</td>\n",
              "      <td>0.770701</td>\n",
              "      <td>0.776316</td>\n",
              "      <td>0.756410</td>\n",
              "      <td>0.766234</td>\n",
              "      <td>0.770610</td>\n",
              "    </tr>\n",
              "    <tr>\n",
              "      <th>3</th>\n",
              "      <td>Support Vector Machine</td>\n",
              "      <td>0.738854</td>\n",
              "      <td>0.728395</td>\n",
              "      <td>0.756410</td>\n",
              "      <td>0.742138</td>\n",
              "      <td>0.738965</td>\n",
              "    </tr>\n",
              "    <tr>\n",
              "      <th>4</th>\n",
              "      <td>Gaussian Naive Bayes</td>\n",
              "      <td>0.719745</td>\n",
              "      <td>0.723684</td>\n",
              "      <td>0.705128</td>\n",
              "      <td>0.714286</td>\n",
              "      <td>0.719653</td>\n",
              "    </tr>\n",
              "    <tr>\n",
              "      <th>5</th>\n",
              "      <td>K-Nearest Neighbors</td>\n",
              "      <td>0.770701</td>\n",
              "      <td>0.733333</td>\n",
              "      <td>0.846154</td>\n",
              "      <td>0.785714</td>\n",
              "      <td>0.771178</td>\n",
              "    </tr>\n",
              "    <tr>\n",
              "      <th>6</th>\n",
              "      <td>Decision Tree</td>\n",
              "      <td>0.783439</td>\n",
              "      <td>0.750000</td>\n",
              "      <td>0.846154</td>\n",
              "      <td>0.795181</td>\n",
              "      <td>0.783836</td>\n",
              "    </tr>\n",
              "    <tr>\n",
              "      <th>7</th>\n",
              "      <td>XGBoost</td>\n",
              "      <td>0.789809</td>\n",
              "      <td>0.784810</td>\n",
              "      <td>0.794872</td>\n",
              "      <td>0.789809</td>\n",
              "      <td>0.789841</td>\n",
              "    </tr>\n",
              "    <tr>\n",
              "      <th>8</th>\n",
              "      <td>LightGBM</td>\n",
              "      <td>0.789809</td>\n",
              "      <td>0.771084</td>\n",
              "      <td>0.820513</td>\n",
              "      <td>0.795031</td>\n",
              "      <td>0.790003</td>\n",
              "    </tr>\n",
              "  </tbody>\n",
              "</table>\n",
              "</div>"
            ],
            "text/plain": [
              "                    Model  Accuracy  Precision    Recall  F1 Score   AUC-ROC\n",
              "0     Logistic Regression  0.738854   0.734177  0.743590  0.738854  0.738883\n",
              "1           Random Forest  0.783439   0.750000  0.846154  0.795181  0.783836\n",
              "2       Gradient Boosting  0.770701   0.776316  0.756410  0.766234  0.770610\n",
              "3  Support Vector Machine  0.738854   0.728395  0.756410  0.742138  0.738965\n",
              "4    Gaussian Naive Bayes  0.719745   0.723684  0.705128  0.714286  0.719653\n",
              "5     K-Nearest Neighbors  0.770701   0.733333  0.846154  0.785714  0.771178\n",
              "6           Decision Tree  0.783439   0.750000  0.846154  0.795181  0.783836\n",
              "7                 XGBoost  0.789809   0.784810  0.794872  0.789809  0.789841\n",
              "8                LightGBM  0.789809   0.771084  0.820513  0.795031  0.790003"
            ]
          },
          "execution_count": 46,
          "metadata": {},
          "output_type": "execute_result"
        }
      ],
      "source": [
        "results_df"
      ]
    },
    {
      "cell_type": "markdown",
      "id": "750B1SW2mpBm",
      "metadata": {
        "id": "750B1SW2mpBm"
      },
      "source": [
        "## Hyperparameter Tuning\n",
        "Hyperparameter tuning aims to find the optimal combination of hyperparameters that will result in the best performance of the model on the given dataset (Bartz-Beielstein & Zaefferer, 2023). There are various approaches to perform hyperparameter tuning. For this project, grid search was used where you get to define a grid of the possible hyperparameters values and evaluate the model's performance for each combination. This ensures that all the possible combinations have been explored."
      ]
    },
    {
      "cell_type": "code",
      "execution_count": 47,
      "id": "QkuulPZjkrQd",
      "metadata": {
        "colab": {
          "base_uri": "https://localhost:8080/"
        },
        "id": "QkuulPZjkrQd",
        "outputId": "2a4007a2-638f-4b3c-a342-1ac405c87471"
      },
      "outputs": [
        {
          "data": {
            "text/plain": [
              "{'bootstrap': True,\n",
              " 'ccp_alpha': 0.0,\n",
              " 'class_weight': None,\n",
              " 'criterion': 'gini',\n",
              " 'max_depth': None,\n",
              " 'max_features': 'sqrt',\n",
              " 'max_leaf_nodes': None,\n",
              " 'max_samples': None,\n",
              " 'min_impurity_decrease': 0.0,\n",
              " 'min_samples_leaf': 1,\n",
              " 'min_samples_split': 2,\n",
              " 'min_weight_fraction_leaf': 0.0,\n",
              " 'n_estimators': 100,\n",
              " 'n_jobs': None,\n",
              " 'oob_score': False,\n",
              " 'random_state': None,\n",
              " 'verbose': 0,\n",
              " 'warm_start': False}"
            ]
          },
          "execution_count": 47,
          "metadata": {},
          "output_type": "execute_result"
        }
      ],
      "source": [
        "# Hyperparameters Fine-tuning (Scikit-learn hp search, cross-validation, etc. )\n",
        "RandomForestClassifier().get_params()"
      ]
    },
    {
      "cell_type": "code",
      "execution_count": 48,
      "id": "mkWKZ7lWm5IF",
      "metadata": {
        "id": "mkWKZ7lWm5IF"
      },
      "outputs": [],
      "source": [
        "# Defining the parameter grid for Random Forest m\n",
        "param_grid_rf = {\n",
        "    'n_estimators': [100, 200, 300],\n",
        "    'max_depth': [None, 10, 20],\n",
        "    'min_samples_split': [2, 5,10],\n",
        "    'min_samples_leaf': [1, 2,4]\n",
        "}"
      ]
    },
    {
      "cell_type": "code",
      "execution_count": 49,
      "id": "d4cF7MJtnAx2",
      "metadata": {
        "colab": {
          "base_uri": "https://localhost:8080/",
          "height": 118
        },
        "id": "d4cF7MJtnAx2",
        "outputId": "c0d3c772-5afc-4e03-ef56-fba115653837"
      },
      "outputs": [
        {
          "data": {
            "text/html": [
              "<style>#sk-container-id-1 {color: black;}#sk-container-id-1 pre{padding: 0;}#sk-container-id-1 div.sk-toggleable {background-color: white;}#sk-container-id-1 label.sk-toggleable__label {cursor: pointer;display: block;width: 100%;margin-bottom: 0;padding: 0.3em;box-sizing: border-box;text-align: center;}#sk-container-id-1 label.sk-toggleable__label-arrow:before {content: \"▸\";float: left;margin-right: 0.25em;color: #696969;}#sk-container-id-1 label.sk-toggleable__label-arrow:hover:before {color: black;}#sk-container-id-1 div.sk-estimator:hover label.sk-toggleable__label-arrow:before {color: black;}#sk-container-id-1 div.sk-toggleable__content {max-height: 0;max-width: 0;overflow: hidden;text-align: left;background-color: #f0f8ff;}#sk-container-id-1 div.sk-toggleable__content pre {margin: 0.2em;color: black;border-radius: 0.25em;background-color: #f0f8ff;}#sk-container-id-1 input.sk-toggleable__control:checked~div.sk-toggleable__content {max-height: 200px;max-width: 100%;overflow: auto;}#sk-container-id-1 input.sk-toggleable__control:checked~label.sk-toggleable__label-arrow:before {content: \"▾\";}#sk-container-id-1 div.sk-estimator input.sk-toggleable__control:checked~label.sk-toggleable__label {background-color: #d4ebff;}#sk-container-id-1 div.sk-label input.sk-toggleable__control:checked~label.sk-toggleable__label {background-color: #d4ebff;}#sk-container-id-1 input.sk-hidden--visually {border: 0;clip: rect(1px 1px 1px 1px);clip: rect(1px, 1px, 1px, 1px);height: 1px;margin: -1px;overflow: hidden;padding: 0;position: absolute;width: 1px;}#sk-container-id-1 div.sk-estimator {font-family: monospace;background-color: #f0f8ff;border: 1px dotted black;border-radius: 0.25em;box-sizing: border-box;margin-bottom: 0.5em;}#sk-container-id-1 div.sk-estimator:hover {background-color: #d4ebff;}#sk-container-id-1 div.sk-parallel-item::after {content: \"\";width: 100%;border-bottom: 1px solid gray;flex-grow: 1;}#sk-container-id-1 div.sk-label:hover label.sk-toggleable__label {background-color: #d4ebff;}#sk-container-id-1 div.sk-serial::before {content: \"\";position: absolute;border-left: 1px solid gray;box-sizing: border-box;top: 0;bottom: 0;left: 50%;z-index: 0;}#sk-container-id-1 div.sk-serial {display: flex;flex-direction: column;align-items: center;background-color: white;padding-right: 0.2em;padding-left: 0.2em;position: relative;}#sk-container-id-1 div.sk-item {position: relative;z-index: 1;}#sk-container-id-1 div.sk-parallel {display: flex;align-items: stretch;justify-content: center;background-color: white;position: relative;}#sk-container-id-1 div.sk-item::before, #sk-container-id-1 div.sk-parallel-item::before {content: \"\";position: absolute;border-left: 1px solid gray;box-sizing: border-box;top: 0;bottom: 0;left: 50%;z-index: -1;}#sk-container-id-1 div.sk-parallel-item {display: flex;flex-direction: column;z-index: 1;position: relative;background-color: white;}#sk-container-id-1 div.sk-parallel-item:first-child::after {align-self: flex-end;width: 50%;}#sk-container-id-1 div.sk-parallel-item:last-child::after {align-self: flex-start;width: 50%;}#sk-container-id-1 div.sk-parallel-item:only-child::after {width: 0;}#sk-container-id-1 div.sk-dashed-wrapped {border: 1px dashed gray;margin: 0 0.4em 0.5em 0.4em;box-sizing: border-box;padding-bottom: 0.4em;background-color: white;}#sk-container-id-1 div.sk-label label {font-family: monospace;font-weight: bold;display: inline-block;line-height: 1.2em;}#sk-container-id-1 div.sk-label-container {text-align: center;}#sk-container-id-1 div.sk-container {/* jupyter's `normalize.less` sets `[hidden] { display: none; }` but bootstrap.min.css set `[hidden] { display: none !important; }` so we also need the `!important` here to be able to override the default hidden behavior on the sphinx rendered scikit-learn.org. See: https://github.com/scikit-learn/scikit-learn/issues/21755 */display: inline-block !important;position: relative;}#sk-container-id-1 div.sk-text-repr-fallback {display: none;}</style><div id=\"sk-container-id-1\" class=\"sk-top-container\"><div class=\"sk-text-repr-fallback\"><pre>GridSearchCV(cv=5, estimator=RandomForestClassifier(random_state=42),\n",
              "             param_grid={&#x27;max_depth&#x27;: [None, 10, 20],\n",
              "                         &#x27;min_samples_leaf&#x27;: [1, 2, 4],\n",
              "                         &#x27;min_samples_split&#x27;: [2, 5, 10],\n",
              "                         &#x27;n_estimators&#x27;: [100, 200, 300]},\n",
              "             scoring=&#x27;f1&#x27;)</pre><b>In a Jupyter environment, please rerun this cell to show the HTML representation or trust the notebook. <br />On GitHub, the HTML representation is unable to render, please try loading this page with nbviewer.org.</b></div><div class=\"sk-container\" hidden><div class=\"sk-item sk-dashed-wrapped\"><div class=\"sk-label-container\"><div class=\"sk-label sk-toggleable\"><input class=\"sk-toggleable__control sk-hidden--visually\" id=\"sk-estimator-id-1\" type=\"checkbox\" ><label for=\"sk-estimator-id-1\" class=\"sk-toggleable__label sk-toggleable__label-arrow\">GridSearchCV</label><div class=\"sk-toggleable__content\"><pre>GridSearchCV(cv=5, estimator=RandomForestClassifier(random_state=42),\n",
              "             param_grid={&#x27;max_depth&#x27;: [None, 10, 20],\n",
              "                         &#x27;min_samples_leaf&#x27;: [1, 2, 4],\n",
              "                         &#x27;min_samples_split&#x27;: [2, 5, 10],\n",
              "                         &#x27;n_estimators&#x27;: [100, 200, 300]},\n",
              "             scoring=&#x27;f1&#x27;)</pre></div></div></div><div class=\"sk-parallel\"><div class=\"sk-parallel-item\"><div class=\"sk-item\"><div class=\"sk-label-container\"><div class=\"sk-label sk-toggleable\"><input class=\"sk-toggleable__control sk-hidden--visually\" id=\"sk-estimator-id-2\" type=\"checkbox\" ><label for=\"sk-estimator-id-2\" class=\"sk-toggleable__label sk-toggleable__label-arrow\">estimator: RandomForestClassifier</label><div class=\"sk-toggleable__content\"><pre>RandomForestClassifier(random_state=42)</pre></div></div></div><div class=\"sk-serial\"><div class=\"sk-item\"><div class=\"sk-estimator sk-toggleable\"><input class=\"sk-toggleable__control sk-hidden--visually\" id=\"sk-estimator-id-3\" type=\"checkbox\" ><label for=\"sk-estimator-id-3\" class=\"sk-toggleable__label sk-toggleable__label-arrow\">RandomForestClassifier</label><div class=\"sk-toggleable__content\"><pre>RandomForestClassifier(random_state=42)</pre></div></div></div></div></div></div></div></div></div></div>"
            ],
            "text/plain": [
              "GridSearchCV(cv=5, estimator=RandomForestClassifier(random_state=42),\n",
              "             param_grid={'max_depth': [None, 10, 20],\n",
              "                         'min_samples_leaf': [1, 2, 4],\n",
              "                         'min_samples_split': [2, 5, 10],\n",
              "                         'n_estimators': [100, 200, 300]},\n",
              "             scoring='f1')"
            ]
          },
          "execution_count": 49,
          "metadata": {},
          "output_type": "execute_result"
        }
      ],
      "source": [
        "# Defining a random forest model\n",
        "rf = RandomForestClassifier(random_state=42)\n",
        "#Perfoming a grid search using cross validation\n",
        "grid_search_rf = GridSearchCV(rf, param_grid_rf, scoring='f1', cv=5)\n",
        "grid_search_rf.fit(X_train_scaled, y_train)"
      ]
    },
    {
      "cell_type": "code",
      "execution_count": 50,
      "id": "oDnqs25toAZO",
      "metadata": {
        "id": "oDnqs25toAZO"
      },
      "outputs": [],
      "source": [
        "# Getting the best parameters\n",
        "best_params_rf = grid_search_rf.best_params_\n",
        "best_score_rf = grid_search_rf.best_score_"
      ]
    },
    {
      "cell_type": "code",
      "execution_count": 51,
      "id": "kWALO63SoFOf",
      "metadata": {
        "colab": {
          "base_uri": "https://localhost:8080/"
        },
        "id": "kWALO63SoFOf",
        "outputId": "b075a368-7b52-4f50-bf80-38062b6552cf"
      },
      "outputs": [
        {
          "name": "stdout",
          "output_type": "stream",
          "text": [
            "The best hyperparameters for the Random Forest model are:\n",
            "{'max_depth': 10, 'min_samples_leaf': 1, 'min_samples_split': 5, 'n_estimators': 300}\n"
          ]
        }
      ],
      "source": [
        "#Displaying the best parameters\n",
        "print(f\"The best hyperparameters for the Random Forest model are:\\n{best_params_rf}\")"
      ]
    },
    {
      "cell_type": "code",
      "execution_count": 52,
      "id": "VoO_aUgqoRWh",
      "metadata": {
        "id": "VoO_aUgqoRWh"
      },
      "outputs": [],
      "source": [
        "# Define the models with the best hyperparameters\n",
        "rf_model_tuned = RandomForestClassifier(n_estimators=300, max_depth=10, min_samples_split=2, min_samples_leaf=1, random_state=42)"
      ]
    },
    {
      "cell_type": "code",
      "execution_count": 53,
      "id": "aqHoEva-rHip",
      "metadata": {
        "colab": {
          "base_uri": "https://localhost:8080/",
          "height": 75
        },
        "id": "aqHoEva-rHip",
        "outputId": "f112f5b9-189c-4403-cc42-f4866bfa04dc"
      },
      "outputs": [
        {
          "data": {
            "text/html": [
              "<style>#sk-container-id-2 {color: black;}#sk-container-id-2 pre{padding: 0;}#sk-container-id-2 div.sk-toggleable {background-color: white;}#sk-container-id-2 label.sk-toggleable__label {cursor: pointer;display: block;width: 100%;margin-bottom: 0;padding: 0.3em;box-sizing: border-box;text-align: center;}#sk-container-id-2 label.sk-toggleable__label-arrow:before {content: \"▸\";float: left;margin-right: 0.25em;color: #696969;}#sk-container-id-2 label.sk-toggleable__label-arrow:hover:before {color: black;}#sk-container-id-2 div.sk-estimator:hover label.sk-toggleable__label-arrow:before {color: black;}#sk-container-id-2 div.sk-toggleable__content {max-height: 0;max-width: 0;overflow: hidden;text-align: left;background-color: #f0f8ff;}#sk-container-id-2 div.sk-toggleable__content pre {margin: 0.2em;color: black;border-radius: 0.25em;background-color: #f0f8ff;}#sk-container-id-2 input.sk-toggleable__control:checked~div.sk-toggleable__content {max-height: 200px;max-width: 100%;overflow: auto;}#sk-container-id-2 input.sk-toggleable__control:checked~label.sk-toggleable__label-arrow:before {content: \"▾\";}#sk-container-id-2 div.sk-estimator input.sk-toggleable__control:checked~label.sk-toggleable__label {background-color: #d4ebff;}#sk-container-id-2 div.sk-label input.sk-toggleable__control:checked~label.sk-toggleable__label {background-color: #d4ebff;}#sk-container-id-2 input.sk-hidden--visually {border: 0;clip: rect(1px 1px 1px 1px);clip: rect(1px, 1px, 1px, 1px);height: 1px;margin: -1px;overflow: hidden;padding: 0;position: absolute;width: 1px;}#sk-container-id-2 div.sk-estimator {font-family: monospace;background-color: #f0f8ff;border: 1px dotted black;border-radius: 0.25em;box-sizing: border-box;margin-bottom: 0.5em;}#sk-container-id-2 div.sk-estimator:hover {background-color: #d4ebff;}#sk-container-id-2 div.sk-parallel-item::after {content: \"\";width: 100%;border-bottom: 1px solid gray;flex-grow: 1;}#sk-container-id-2 div.sk-label:hover label.sk-toggleable__label {background-color: #d4ebff;}#sk-container-id-2 div.sk-serial::before {content: \"\";position: absolute;border-left: 1px solid gray;box-sizing: border-box;top: 0;bottom: 0;left: 50%;z-index: 0;}#sk-container-id-2 div.sk-serial {display: flex;flex-direction: column;align-items: center;background-color: white;padding-right: 0.2em;padding-left: 0.2em;position: relative;}#sk-container-id-2 div.sk-item {position: relative;z-index: 1;}#sk-container-id-2 div.sk-parallel {display: flex;align-items: stretch;justify-content: center;background-color: white;position: relative;}#sk-container-id-2 div.sk-item::before, #sk-container-id-2 div.sk-parallel-item::before {content: \"\";position: absolute;border-left: 1px solid gray;box-sizing: border-box;top: 0;bottom: 0;left: 50%;z-index: -1;}#sk-container-id-2 div.sk-parallel-item {display: flex;flex-direction: column;z-index: 1;position: relative;background-color: white;}#sk-container-id-2 div.sk-parallel-item:first-child::after {align-self: flex-end;width: 50%;}#sk-container-id-2 div.sk-parallel-item:last-child::after {align-self: flex-start;width: 50%;}#sk-container-id-2 div.sk-parallel-item:only-child::after {width: 0;}#sk-container-id-2 div.sk-dashed-wrapped {border: 1px dashed gray;margin: 0 0.4em 0.5em 0.4em;box-sizing: border-box;padding-bottom: 0.4em;background-color: white;}#sk-container-id-2 div.sk-label label {font-family: monospace;font-weight: bold;display: inline-block;line-height: 1.2em;}#sk-container-id-2 div.sk-label-container {text-align: center;}#sk-container-id-2 div.sk-container {/* jupyter's `normalize.less` sets `[hidden] { display: none; }` but bootstrap.min.css set `[hidden] { display: none !important; }` so we also need the `!important` here to be able to override the default hidden behavior on the sphinx rendered scikit-learn.org. See: https://github.com/scikit-learn/scikit-learn/issues/21755 */display: inline-block !important;position: relative;}#sk-container-id-2 div.sk-text-repr-fallback {display: none;}</style><div id=\"sk-container-id-2\" class=\"sk-top-container\"><div class=\"sk-text-repr-fallback\"><pre>RandomForestClassifier(max_depth=10, n_estimators=300, random_state=42)</pre><b>In a Jupyter environment, please rerun this cell to show the HTML representation or trust the notebook. <br />On GitHub, the HTML representation is unable to render, please try loading this page with nbviewer.org.</b></div><div class=\"sk-container\" hidden><div class=\"sk-item\"><div class=\"sk-estimator sk-toggleable\"><input class=\"sk-toggleable__control sk-hidden--visually\" id=\"sk-estimator-id-4\" type=\"checkbox\" checked><label for=\"sk-estimator-id-4\" class=\"sk-toggleable__label sk-toggleable__label-arrow\">RandomForestClassifier</label><div class=\"sk-toggleable__content\"><pre>RandomForestClassifier(max_depth=10, n_estimators=300, random_state=42)</pre></div></div></div></div></div>"
            ],
            "text/plain": [
              "RandomForestClassifier(max_depth=10, n_estimators=300, random_state=42)"
            ]
          },
          "execution_count": 53,
          "metadata": {},
          "output_type": "execute_result"
        }
      ],
      "source": [
        "# Fit the tuned models to the training data\n",
        "rf_model_tuned.fit(X_train_scaled, y_train)"
      ]
    },
    {
      "cell_type": "code",
      "execution_count": 54,
      "id": "R64YVGXbrNNH",
      "metadata": {
        "id": "R64YVGXbrNNH"
      },
      "outputs": [],
      "source": [
        "# Make predictions on the evaluation data\n",
        "y_pred_rf = rf_model_tuned.predict(X_eval_scaled)"
      ]
    },
    {
      "cell_type": "code",
      "execution_count": 55,
      "id": "hrFv3FdBrdpc",
      "metadata": {
        "id": "hrFv3FdBrdpc"
      },
      "outputs": [],
      "source": [
        "# Calculate the evaluation scores\n",
        "accuracy_rf = accuracy_score(y_eval, y_pred_rf)\n",
        "precision_rf = precision_score(y_eval, y_pred_rf)\n",
        "recall_rf = recall_score(y_eval, y_pred_rf)\n",
        "f1_rf = f1_score(y_eval, y_pred_rf)\n",
        "auc_roc_rf = roc_auc_score(y_eval, y_pred_rf)"
      ]
    },
    {
      "cell_type": "code",
      "execution_count": 56,
      "id": "AyeP8YfkrtED",
      "metadata": {
        "colab": {
          "base_uri": "https://localhost:8080/"
        },
        "id": "AyeP8YfkrtED",
        "outputId": "3c15c794-142b-45e0-efd9-6be7ab19b697"
      },
      "outputs": [
        {
          "name": "stdout",
          "output_type": "stream",
          "text": [
            "The f1 score for the random forest model with Senior Citizen column is: 0.8023952095808383\n",
            "\n",
            " The accuracy score for the random forest model without Senior Citizen column is: 0.7898089171974523\n"
          ]
        }
      ],
      "source": [
        "#Displaying the result\n",
        "print(f'The f1 score for the random forest model with Senior Citizen column is: {f1_rf}')\n",
        "print(f'\\n The accuracy score for the random forest model without Senior Citizen column is: {accuracy_rf}')"
      ]
    },
    {
      "cell_type": "markdown",
      "id": "PZbFzs8M48Ct",
      "metadata": {
        "id": "PZbFzs8M48Ct"
      },
      "source": [
        "## Exporting the Key Components"
      ]
    },
    {
      "cell_type": "code",
      "execution_count": 57,
      "id": "ZIeKCihJ5HkK",
      "metadata": {
        "id": "ZIeKCihJ5HkK"
      },
      "outputs": [],
      "source": [
        "#Requirements file\n",
        "!pip freeze > requirements.txt"
      ]
    },
    {
      "cell_type": "markdown",
      "id": "Lqn3J98-5M2Q",
      "metadata": {
        "id": "Lqn3J98-5M2Q"
      },
      "source": [
        "### Objects to Export"
      ]
    },
    {
      "cell_type": "code",
      "execution_count": 58,
      "id": "Xr1t0eC75Q9T",
      "metadata": {
        "id": "Xr1t0eC75Q9T"
      },
      "outputs": [],
      "source": [
        "components = {\n",
        "    'label_encoder': label_encoder,\n",
        "    'scaler': scaler,\n",
        "    'imbalance': smote,\n",
        "    'grid_search_rfc':grid_search_rf,\n",
        "    'model': rf_model_tuned\n",
        "}"
      ]
    },
    {
      "cell_type": "markdown",
      "id": "KArYIEQX5Y84",
      "metadata": {
        "id": "KArYIEQX5Y84"
      },
      "source": [
        "### Exporting the Model"
      ]
    },
    {
      "cell_type": "code",
      "execution_count": 59,
      "id": "vG-hA66b5b6r",
      "metadata": {
        "id": "vG-hA66b5b6r"
      },
      "outputs": [],
      "source": [
        "with open ('ML_Model.pkl', 'wb') as file:\n",
        "    pickle.dump(components, file)"
      ]
    }
  ],
  "metadata": {
    "colab": {
      "provenance": []
    },
    "kernelspec": {
      "display_name": "Python 3 (ipykernel)",
      "language": "python",
      "name": "python3"
    },
    "language_info": {
      "codemirror_mode": {
        "name": "ipython",
        "version": 3
      },
      "file_extension": ".py",
      "mimetype": "text/x-python",
      "name": "python",
      "nbconvert_exporter": "python",
      "pygments_lexer": "ipython3",
      "version": "3.11.3"
    }
  },
  "nbformat": 4,
  "nbformat_minor": 5
}
